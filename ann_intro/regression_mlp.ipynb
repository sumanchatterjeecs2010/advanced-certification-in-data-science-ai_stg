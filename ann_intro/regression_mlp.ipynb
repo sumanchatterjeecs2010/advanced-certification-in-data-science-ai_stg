{
 "cells": [
  {
   "cell_type": "code",
   "execution_count": 2,
   "metadata": {},
   "outputs": [],
   "source": [
    "# Python ≥3.5 is required\n",
    "import sys\n",
    "assert sys.version_info >= (3, 5)\n",
    "\n",
    "# Scikit-Learn ≥0.20 is required\n",
    "import sklearn\n",
    "assert sklearn.__version__ >= \"0.20\"\n",
    "\n",
    "try:\n",
    "    # %tensorflow_version only exists in Colab.\n",
    "    %tensorflow_version 2.x\n",
    "except Exception:\n",
    "    pass\n",
    "\n",
    "# TensorFlow ≥2.0 is required\n",
    "import tensorflow as tf\n",
    "assert tf.__version__ >= \"2.0\"\n",
    "\n",
    "# Common imports\n",
    "import numpy as np\n",
    "import os\n",
    "\n",
    "from tensorflow import keras\n",
    "# to make this notebook's output stable across runs\n",
    "np.random.seed(42)\n",
    "\n",
    "# To plot pretty figures\n",
    "%matplotlib inline\n",
    "import matplotlib as mpl\n",
    "import matplotlib.pyplot as plt\n",
    "mpl.rc('axes', labelsize=14)\n",
    "mpl.rc('xtick', labelsize=12)\n",
    "mpl.rc('ytick', labelsize=12)\n",
    "\n",
    "# Where to save the figures\n",
    "PROJECT_ROOT_DIR = \".\"\n",
    "CHAPTER_ID = \"ann\"\n",
    "IMAGES_PATH = os.path.join(PROJECT_ROOT_DIR, \"images\", CHAPTER_ID)\n",
    "os.makedirs(IMAGES_PATH, exist_ok=True)\n",
    "\n",
    "def save_fig(fig_id, tight_layout=True, fig_extension=\"png\", resolution=300):\n",
    "    path = os.path.join(IMAGES_PATH, fig_id + \".\" + fig_extension)\n",
    "    print(\"Saving figure\", fig_id)\n",
    "    if tight_layout:\n",
    "        plt.tight_layout()\n",
    "    plt.savefig(path, format=fig_extension, dpi=resolution)\n",
    "\n",
    "# Ignore useless warnings (see SciPy issue #5998)\n",
    "import warnings\n",
    "warnings.filterwarnings(action=\"ignore\", message=\"^internal gelsd\")"
   ]
  },
  {
   "cell_type": "code",
   "execution_count": 3,
   "metadata": {},
   "outputs": [],
   "source": [
    "from sklearn.datasets import fetch_california_housing\n",
    "from sklearn.model_selection import train_test_split\n",
    "from sklearn.preprocessing import StandardScaler\n",
    "\n",
    "housing = fetch_california_housing() # loading the California Housing dataset\n",
    "\n",
    "X_train_full, X_test, y_train_full, y_test = train_test_split(housing.data, housing.target, random_state=42) # test and train\n",
    "X_train, X_valid, y_train, y_valid = train_test_split(X_train_full, y_train_full, random_state=42) # training and validation\n",
    "\n",
    "# Using the StandardScaler to scale the dataset\n",
    "\n",
    "scaler = StandardScaler()\n",
    "X_train = scaler.fit_transform(X_train)\n",
    "X_valid = scaler.transform(X_valid)\n",
    "X_test = scaler.transform(X_test)"
   ]
  },
  {
   "cell_type": "code",
   "execution_count": 4,
   "metadata": {},
   "outputs": [
    {
     "data": {
      "text/plain": [
       "((11610, 8), (3870, 8), (5160, 8))"
      ]
     },
     "execution_count": 4,
     "metadata": {},
     "output_type": "execute_result"
    }
   ],
   "source": [
    "X_train.shape, X_valid.shape, X_test.shape"
   ]
  },
  {
   "cell_type": "code",
   "execution_count": 5,
   "metadata": {},
   "outputs": [],
   "source": [
    "np.random.seed(42) # generating random see\n",
    "tf.random.set_seed(42) # setting random seed"
   ]
  },
  {
   "cell_type": "code",
   "execution_count": 6,
   "metadata": {},
   "outputs": [
    {
     "name": "stdout",
     "output_type": "stream",
     "text": [
      "Train on 11610 samples, validate on 3870 samples\n",
      "Epoch 1/20\n",
      "11610/11610 [==============================] - 2s 141us/sample - loss: 1.6205 - val_loss: 2.0374\n",
      "Epoch 2/20\n",
      "11610/11610 [==============================] - 1s 101us/sample - loss: 0.7162 - val_loss: 0.6571\n",
      "Epoch 3/20\n",
      "11610/11610 [==============================] - 1s 92us/sample - loss: 0.6356 - val_loss: 0.5996\n",
      "Epoch 4/20\n",
      "11610/11610 [==============================] - 1s 81us/sample - loss: 0.5989 - val_loss: 0.5662\n",
      "Epoch 5/20\n",
      "11610/11610 [==============================] - 1s 81us/sample - loss: 0.5713 - val_loss: 0.5489\n",
      "Epoch 6/20\n",
      "11610/11610 [==============================] - 1s 81us/sample - loss: 0.5491 - val_loss: 0.5204\n",
      "Epoch 7/20\n",
      "11610/11610 [==============================] - 1s 81us/sample - loss: 0.5301 - val_loss: 0.5018\n",
      "Epoch 8/20\n",
      "11610/11610 [==============================] - 1s 84us/sample - loss: 0.5142 - val_loss: 0.4815\n",
      "Epoch 9/20\n",
      "11610/11610 [==============================] - 1s 81us/sample - loss: 0.5004 - val_loss: 0.4695\n",
      "Epoch 10/20\n",
      "11610/11610 [==============================] - 1s 80us/sample - loss: 0.4883 - val_loss: 0.4605\n",
      "Epoch 11/20\n",
      "11610/11610 [==============================] - 1s 96us/sample - loss: 0.4786 - val_loss: 0.4495\n",
      "Epoch 12/20\n",
      "11610/11610 [==============================] - 1s 81us/sample - loss: 0.4697 - val_loss: 0.4382\n",
      "Epoch 13/20\n",
      "11610/11610 [==============================] - 1s 84us/sample - loss: 0.4621 - val_loss: 0.4309\n",
      "Epoch 14/20\n",
      "11610/11610 [==============================] - 1s 82us/sample - loss: 0.4556 - val_loss: 0.4247\n",
      "Epoch 15/20\n",
      "11610/11610 [==============================] - 1s 85us/sample - loss: 0.4497 - val_loss: 0.4200\n",
      "Epoch 16/20\n",
      "11610/11610 [==============================] - 1s 81us/sample - loss: 0.4443 - val_loss: 0.4149\n",
      "Epoch 17/20\n",
      "11610/11610 [==============================] - 1s 83us/sample - loss: 0.4397 - val_loss: 0.4108\n",
      "Epoch 18/20\n",
      "11610/11610 [==============================] - 1s 94us/sample - loss: 0.4354 - val_loss: 0.4059\n",
      "Epoch 19/20\n",
      "11610/11610 [==============================] - 1s 85us/sample - loss: 0.4315 - val_loss: 0.4003\n",
      "Epoch 20/20\n",
      "11610/11610 [==============================] - 1s 84us/sample - loss: 0.4281 - val_loss: 0.3981\n",
      "5160/5160 [==============================] - 0s 43us/sample - loss: 0.4218\n"
     ]
    }
   ],
   "source": [
    "# Creating the model using the Sequential API\n",
    "\n",
    "model = keras.models.Sequential([\n",
    "    keras.layers.Dense(30, activation=\"relu\", input_shape=X_train.shape[1:]),\n",
    "    keras.layers.Dense(1)\n",
    "])\n",
    "model.compile(loss=\"mean_squared_error\", optimizer=keras.optimizers.SGD(lr=1e-3)) # compiling the model\n",
    "history = model.fit(X_train, y_train, epochs=20, validation_data=(X_valid, y_valid)) # fit the model\n",
    "mse_test = model.evaluate(X_test, y_test) # evaluating\n",
    "X_new = X_test[:3]\n",
    "y_pred = model.predict(X_new) # predicting"
   ]
  },
  {
   "cell_type": "code",
   "execution_count": 7,
   "metadata": {},
   "outputs": [
    {
     "name": "stdout",
     "output_type": "stream",
     "text": [
      "Model: \"sequential\"\n",
      "_________________________________________________________________\n",
      "Layer (type)                 Output Shape              Param #   \n",
      "=================================================================\n",
      "dense (Dense)                (None, 30)                270       \n",
      "_________________________________________________________________\n",
      "dense_1 (Dense)              (None, 1)                 31        \n",
      "=================================================================\n",
      "Total params: 301\n",
      "Trainable params: 301\n",
      "Non-trainable params: 0\n",
      "_________________________________________________________________\n"
     ]
    }
   ],
   "source": [
    "model.summary()"
   ]
  },
  {
   "cell_type": "code",
   "execution_count": 8,
   "metadata": {},
   "outputs": [
    {
     "data": {
      "image/png": "[encoded data removed]",
      "text/plain": [
       "<Figure size 432x288 with 1 Axes>"
      ]
     },
     "metadata": {
      "needs_background": "light"
     },
     "output_type": "display_data"
    }
   ],
   "source": [
    "import pandas as pd\n",
    "plt.plot(pd.DataFrame(history.history))\n",
    "plt.grid(True)\n",
    "plt.gca().set_ylim(0, 1) # setting y-axis limit\n",
    "plt.show()"
   ]
  },
  {
   "cell_type": "code",
   "execution_count": 9,
   "metadata": {},
   "outputs": [
    {
     "data": {
      "text/plain": [
       "array([[0.37310064],\n",
       "       [1.6790789 ],\n",
       "       [3.0817137 ]], dtype=float32)"
      ]
     },
     "execution_count": 9,
     "metadata": {},
     "output_type": "execute_result"
    }
   ],
   "source": [
    "y_pred # printing the predictions"
   ]
  },
  {
   "cell_type": "code",
   "execution_count": 10,
   "metadata": {},
   "outputs": [
    {
     "data": {
      "image/png": "[encoded data removed]",
      "text/plain": [
       "<IPython.core.display.Image object>"
      ]
     },
     "execution_count": 10,
     "metadata": {},
     "output_type": "execute_result"
    }
   ],
   "source": [
    "keras.utils.plot_model(model, \"my_regression_mlp.png\", show_shapes=True)"
   ]
  },
  {
   "cell_type": "markdown",
   "metadata": {},
   "source": [
    "### Functional API"
   ]
  },
  {
   "cell_type": "markdown",
   "metadata": {},
   "source": [
    "Not all neural network models are simply sequential. Some may have complex topologies. Some may have multiple inputs and/or multiple outputs. For example, a Wide & Deep neural network (see paper) connects all or part of the inputs directly to the output layer."
   ]
  },
  {
   "cell_type": "code",
   "execution_count": 11,
   "metadata": {},
   "outputs": [],
   "source": [
    "np.random.seed(42)\n",
    "tf.random.set_seed(42)"
   ]
  },
  {
   "cell_type": "code",
   "execution_count": 12,
   "metadata": {},
   "outputs": [
    {
     "data": {
      "text/plain": [
       "(8,)"
      ]
     },
     "execution_count": 12,
     "metadata": {},
     "output_type": "execute_result"
    }
   ],
   "source": [
    "X_train.shape[1:]"
   ]
  },
  {
   "cell_type": "code",
   "execution_count": 13,
   "metadata": {},
   "outputs": [],
   "source": [
    "input_ = keras.layers.Input(shape=X_train.shape[1:])\n",
    "hidden1 = keras.layers.Dense(30, activation=\"relu\")(input_)\n",
    "hidden2 = keras.layers.Dense(30, activation=\"relu\")(hidden1)\n",
    "concat = keras.layers.concatenate([input_, hidden2]) # concatenate inputs\n",
    "output = keras.layers.Dense(1)(concat)\n",
    "model = keras.models.Model(inputs=[input_], outputs=[output])"
   ]
  },
  {
   "cell_type": "code",
   "execution_count": 14,
   "metadata": {},
   "outputs": [
    {
     "name": "stdout",
     "output_type": "stream",
     "text": [
      "Model: \"model\"\n",
      "__________________________________________________________________________________________________\n",
      "Layer (type)                    Output Shape         Param #     Connected to                     \n",
      "==================================================================================================\n",
      "input_1 (InputLayer)            [(None, 8)]          0                                            \n",
      "__________________________________________________________________________________________________\n",
      "dense_2 (Dense)                 (None, 30)           270         input_1[0][0]                    \n",
      "__________________________________________________________________________________________________\n",
      "dense_3 (Dense)                 (None, 30)           930         dense_2[0][0]                    \n",
      "__________________________________________________________________________________________________\n",
      "concatenate (Concatenate)       (None, 38)           0           input_1[0][0]                    \n",
      "                                                                 dense_3[0][0]                    \n",
      "__________________________________________________________________________________________________\n",
      "dense_4 (Dense)                 (None, 1)            39          concatenate[0][0]                \n",
      "==================================================================================================\n",
      "Total params: 1,239\n",
      "Trainable params: 1,239\n",
      "Non-trainable params: 0\n",
      "__________________________________________________________________________________________________\n"
     ]
    }
   ],
   "source": [
    "model.summary() # generating model summary"
   ]
  },
  {
   "cell_type": "code",
   "execution_count": 15,
   "metadata": {},
   "outputs": [
    {
     "name": "stdout",
     "output_type": "stream",
     "text": [
      "Train on 11610 samples, validate on 3870 samples\n",
      "Epoch 1/20\n",
      "11610/11610 [==============================] - 1s 127us/sample - loss: 1.2390 - val_loss: 0.6566\n",
      "Epoch 2/20\n",
      "11610/11610 [==============================] - 1s 95us/sample - loss: 0.6312 - val_loss: 0.6734\n",
      "Epoch 3/20\n",
      "11610/11610 [==============================] - 1s 101us/sample - loss: 0.5886 - val_loss: 0.5574\n",
      "Epoch 4/20\n",
      "11610/11610 [==============================] - 1s 95us/sample - loss: 0.5595 - val_loss: 0.5235\n",
      "Epoch 5/20\n",
      "11610/11610 [==============================] - 1s 91us/sample - loss: 0.5361 - val_loss: 0.5011\n",
      "Epoch 6/20\n",
      "11610/11610 [==============================] - 1s 93us/sample - loss: 0.5178 - val_loss: 0.5065\n",
      "Epoch 7/20\n",
      "11610/11610 [==============================] - 1s 90us/sample - loss: 0.5016 - val_loss: 0.4699\n",
      "Epoch 8/20\n",
      "11610/11610 [==============================] - 1s 90us/sample - loss: 0.4888 - val_loss: 0.4745\n",
      "Epoch 9/20\n",
      "11610/11610 [==============================] - 1s 88us/sample - loss: 0.4772 - val_loss: 0.4425\n",
      "Epoch 10/20\n",
      "11610/11610 [==============================] - 1s 88us/sample - loss: 0.4673 - val_loss: 0.4384\n",
      "Epoch 11/20\n",
      "11610/11610 [==============================] - 1s 90us/sample - loss: 0.4586 - val_loss: 0.4533\n",
      "Epoch 12/20\n",
      "11610/11610 [==============================] - 1s 91us/sample - loss: 0.4504 - val_loss: 0.4179\n",
      "Epoch 13/20\n",
      "11610/11610 [==============================] - 1s 89us/sample - loss: 0.4435 - val_loss: 0.4137\n",
      "Epoch 14/20\n",
      "11610/11610 [==============================] - 1s 86us/sample - loss: 0.4376 - val_loss: 0.4062\n",
      "Epoch 15/20\n",
      "11610/11610 [==============================] - 1s 84us/sample - loss: 0.4318 - val_loss: 0.4541\n",
      "Epoch 16/20\n",
      "11610/11610 [==============================] - 1s 94us/sample - loss: 0.4266 - val_loss: 0.3952\n",
      "Epoch 17/20\n",
      "11610/11610 [==============================] - 1s 87us/sample - loss: 0.4221 - val_loss: 0.3910\n",
      "Epoch 18/20\n",
      "11610/11610 [==============================] - 1s 87us/sample - loss: 0.4173 - val_loss: 0.4205\n",
      "Epoch 19/20\n",
      "11610/11610 [==============================] - 1s 86us/sample - loss: 0.4132 - val_loss: 0.3830\n",
      "Epoch 20/20\n",
      "11610/11610 [==============================] - 1s 86us/sample - loss: 0.4096 - val_loss: 0.3923\n",
      "5160/5160 [==============================] - 0s 46us/sample - loss: 0.4042\n"
     ]
    }
   ],
   "source": [
    "model.compile(loss=\"mean_squared_error\", optimizer=keras.optimizers.SGD(lr=1e-3)) # compile model\n",
    "history = model.fit(X_train, y_train, epochs=20,\n",
    "                    validation_data=(X_valid, y_valid)) # fit model\n",
    "mse_test = model.evaluate(X_test, y_test) # evaluate model"
   ]
  },
  {
   "cell_type": "code",
   "execution_count": 16,
   "metadata": {},
   "outputs": [],
   "source": [
    "y_pred = model.predict(X_test) # predict using the model"
   ]
  },
  {
   "cell_type": "code",
   "execution_count": 17,
   "metadata": {},
   "outputs": [
    {
     "data": {
      "text/plain": [
       "array([[0.47253639],\n",
       "       [1.8545784 ],\n",
       "       [3.341889  ],\n",
       "       ...,\n",
       "       [1.3345504 ],\n",
       "       [2.1782694 ],\n",
       "       [3.8309045 ]], dtype=float32)"
      ]
     },
     "execution_count": 17,
     "metadata": {},
     "output_type": "execute_result"
    }
   ],
   "source": [
    "y_pred"
   ]
  },
  {
   "cell_type": "markdown",
   "metadata": {},
   "source": [
    "### Different input paths"
   ]
  },
  {
   "cell_type": "code",
   "execution_count": 18,
   "metadata": {},
   "outputs": [],
   "source": [
    "# creating the model using different number of layers\n",
    "\n",
    "input_A = keras.layers.Input(shape=[5], name=\"wide_input\")\n",
    "input_B = keras.layers.Input(shape=[6], name=\"deep_input\")\n",
    "hidden1 = keras.layers.Dense(30, activation=\"relu\")(input_B)\n",
    "hidden2 = keras.layers.Dense(30, activation=\"relu\")(hidden1)\n",
    "concat = keras.layers.concatenate([input_A, hidden2]) # concatenate inputs\n",
    "output = keras.layers.Dense(1, name=\"output\")(concat)\n",
    "model = keras.models.Model(inputs=[input_A, input_B], outputs=[output])"
   ]
  },
  {
   "cell_type": "code",
   "execution_count": 19,
   "metadata": {},
   "outputs": [
    {
     "data": {
      "text/plain": [
       "(11610, 8)"
      ]
     },
     "execution_count": 19,
     "metadata": {},
     "output_type": "execute_result"
    }
   ],
   "source": [
    "X_train.shape"
   ]
  },
  {
   "cell_type": "code",
   "execution_count": 20,
   "metadata": {},
   "outputs": [
    {
     "name": "stdout",
     "output_type": "stream",
     "text": [
      "Train on 11610 samples, validate on 3870 samples\n",
      "Epoch 1/20\n",
      "11610/11610 [==============================] - 1s 128us/sample - loss: 1.7519 - val_loss: 1.0401\n",
      "Epoch 2/20\n",
      "11610/11610 [==============================] - 1s 92us/sample - loss: 0.7637 - val_loss: 0.6781\n",
      "Epoch 3/20\n",
      "11610/11610 [==============================] - 1s 91us/sample - loss: 0.6601 - val_loss: 0.5982\n",
      "Epoch 4/20\n",
      "11610/11610 [==============================] - 1s 88us/sample - loss: 0.6045 - val_loss: 0.5664\n",
      "Epoch 5/20\n",
      "11610/11610 [==============================] - 1s 69us/sample - loss: 0.5667 - val_loss: 0.5574\n",
      "Epoch 6/20\n",
      "11610/11610 [==============================] - 1s 67us/sample - loss: 0.5400 - val_loss: 0.5338\n",
      "Epoch 7/20\n",
      "11610/11610 [==============================] - 1s 67us/sample - loss: 0.5184 - val_loss: 0.5104\n",
      "Epoch 8/20\n",
      "11610/11610 [==============================] - 1s 67us/sample - loss: 0.5025 - val_loss: 0.4768\n",
      "Epoch 9/20\n",
      "11610/11610 [==============================] - 1s 68us/sample - loss: 0.4899 - val_loss: 0.4586\n",
      "Epoch 10/20\n",
      "11610/11610 [==============================] - 1s 67us/sample - loss: 0.4782 - val_loss: 0.4438\n",
      "Epoch 11/20\n",
      "11610/11610 [==============================] - 1s 67us/sample - loss: 0.4685 - val_loss: 0.4297\n",
      "Epoch 12/20\n",
      "11610/11610 [==============================] - 1s 70us/sample - loss: 0.4611 - val_loss: 0.4248\n",
      "Epoch 13/20\n",
      "11610/11610 [==============================] - 1s 68us/sample - loss: 0.4558 - val_loss: 0.4182\n",
      "Epoch 14/20\n",
      "11610/11610 [==============================] - 1s 67us/sample - loss: 0.4521 - val_loss: 0.4150\n",
      "Epoch 15/20\n",
      "11610/11610 [==============================] - 1s 67us/sample - loss: 0.4487 - val_loss: 0.4198\n",
      "Epoch 16/20\n",
      "11610/11610 [==============================] - 1s 68us/sample - loss: 0.4456 - val_loss: 0.4131\n",
      "Epoch 17/20\n",
      "11610/11610 [==============================] - 1s 70us/sample - loss: 0.4421 - val_loss: 0.4080\n",
      "Epoch 18/20\n",
      "11610/11610 [==============================] - 1s 69us/sample - loss: 0.4386 - val_loss: 0.4141\n",
      "Epoch 19/20\n",
      "11610/11610 [==============================] - 1s 70us/sample - loss: 0.4366 - val_loss: 0.4203\n",
      "Epoch 20/20\n",
      "11610/11610 [==============================] - 1s 69us/sample - loss: 0.4351 - val_loss: 0.4099\n",
      "5160/5160 [==============================] - 0s 36us/sample - loss: 0.4282\n"
     ]
    }
   ],
   "source": [
    "model.compile(loss=\"mse\", optimizer=keras.optimizers.SGD(lr=1e-3)) # compile the model\n",
    "\n",
    "X_train_A, X_train_B = X_train[:, :5], X_train[:, 2:]\n",
    "X_valid_A, X_valid_B = X_valid[:, :5], X_valid[:, 2:]\n",
    "X_test_A, X_test_B = X_test[:, :5], X_test[:, 2:]\n",
    "X_new_A, X_new_B = X_test_A[:3], X_test_B[:3]\n",
    "\n",
    "history = model.fit((X_train_A, X_train_B), y_train, epochs=20,\n",
    "                    validation_data=((X_valid_A, X_valid_B), y_valid))\n",
    "mse_test = model.evaluate((X_test_A, X_test_B), y_test)\n",
    "y_pred = model.predict((X_new_A, X_new_B))"
   ]
  },
  {
   "cell_type": "code",
   "execution_count": 21,
   "metadata": {},
   "outputs": [
    {
     "name": "stdout",
     "output_type": "stream",
     "text": [
      "Model: \"model_1\"\n",
      "__________________________________________________________________________________________________\n",
      "Layer (type)                    Output Shape         Param #     Connected to                     \n",
      "==================================================================================================\n",
      "deep_input (InputLayer)         [(None, 6)]          0                                            \n",
      "__________________________________________________________________________________________________\n",
      "dense_5 (Dense)                 (None, 30)           210         deep_input[0][0]                 \n",
      "__________________________________________________________________________________________________\n",
      "wide_input (InputLayer)         [(None, 5)]          0                                            \n",
      "__________________________________________________________________________________________________\n",
      "dense_6 (Dense)                 (None, 30)           930         dense_5[0][0]                    \n",
      "__________________________________________________________________________________________________\n",
      "concatenate_1 (Concatenate)     (None, 35)           0           wide_input[0][0]                 \n",
      "                                                                 dense_6[0][0]                    \n",
      "__________________________________________________________________________________________________\n",
      "output (Dense)                  (None, 1)            36          concatenate_1[0][0]              \n",
      "==================================================================================================\n",
      "Total params: 1,176\n",
      "Trainable params: 1,176\n",
      "Non-trainable params: 0\n",
      "__________________________________________________________________________________________________\n"
     ]
    }
   ],
   "source": [
    "model.summary()"
   ]
  },
  {
   "cell_type": "code",
   "execution_count": 22,
   "metadata": {},
   "outputs": [
    {
     "data": {
      "image/png": "[encoded data removed]",
      "text/plain": [
       "<IPython.core.display.Image object>"
      ]
     },
     "execution_count": 22,
     "metadata": {},
     "output_type": "execute_result"
    }
   ],
   "source": [
    "keras.utils.plot_model(model, \"wide_and_narrow_2_inputs.png\", show_shapes=True)"
   ]
  },
  {
   "cell_type": "markdown",
   "metadata": {},
   "source": [
    "### Adding 2 outputs"
   ]
  },
  {
   "cell_type": "code",
   "execution_count": 23,
   "metadata": {},
   "outputs": [],
   "source": [
    "input_A = keras.layers.Input(shape=[5], name=\"wide_input\")\n",
    "input_B = keras.layers.Input(shape=[6], name=\"deep_input\")\n",
    "hidden1 = keras.layers.Dense(30, activation=\"relu\")(input_B)\n",
    "hidden2 = keras.layers.Dense(30, activation=\"relu\")(hidden1)\n",
    "concat = keras.layers.concatenate([input_A, hidden2]) # concatenate the inputs\n",
    "output = keras.layers.Dense(1, name=\"main_output\")(concat)\n",
    "aux_output = keras.layers.Dense(1, name=\"aux_output\")(hidden2) # aux output for regularization\n",
    "model = keras.models.Model(inputs=[input_A, input_B],\n",
    "                           outputs=[output, aux_output])"
   ]
  },
  {
   "cell_type": "code",
   "execution_count": 24,
   "metadata": {},
   "outputs": [],
   "source": [
    "model.compile(loss=[\"mse\", \"mse\"], loss_weights=[0.9, 0.1], optimizer=keras.optimizers.SGD(lr=1e-3)) # compile the model"
   ]
  },
  {
   "cell_type": "code",
   "execution_count": 25,
   "metadata": {},
   "outputs": [
    {
     "name": "stdout",
     "output_type": "stream",
     "text": [
      "Train on 11610 samples, validate on 3870 samples\n",
      "Epoch 1/20\n",
      "11610/11610 [==============================] - 1s 124us/sample - loss: 2.7499 - main_output_loss: 2.2697 - aux_output_loss: 7.0625 - val_loss: 2.1061 - val_main_output_loss: 1.6838 - val_aux_output_loss: 5.9009\n",
      "Epoch 2/20\n",
      "11610/11610 [==============================] - 1s 75us/sample - loss: 1.1736 - main_output_loss: 0.8291 - aux_output_loss: 4.2754 - val_loss: 0.9527 - val_main_output_loss: 0.7201 - val_aux_output_loss: 3.0443\n",
      "Epoch 3/20\n",
      "11610/11610 [==============================] - 1s 76us/sample - loss: 0.8599 - main_output_loss: 0.6745 - aux_output_loss: 2.5279 - val_loss: 0.7658 - val_main_output_loss: 0.6180 - val_aux_output_loss: 2.0947\n",
      "Epoch 4/20\n",
      "11610/11610 [==============================] - 1s 74us/sample - loss: 0.7320 - main_output_loss: 0.6156 - aux_output_loss: 1.7781 - val_loss: 0.6951 - val_main_output_loss: 0.5757 - val_aux_output_loss: 1.7679\n",
      "Epoch 5/20\n",
      "11610/11610 [==============================] - 1s 78us/sample - loss: 0.6661 - main_output_loss: 0.5772 - aux_output_loss: 1.4663 - val_loss: 0.6530 - val_main_output_loss: 0.5517 - val_aux_output_loss: 1.5634\n",
      "Epoch 6/20\n",
      "11610/11610 [==============================] - 1s 74us/sample - loss: 0.6250 - main_output_loss: 0.5478 - aux_output_loss: 1.3195 - val_loss: 0.6068 - val_main_output_loss: 0.5165 - val_aux_output_loss: 1.4181\n",
      "Epoch 7/20\n",
      "11610/11610 [==============================] - 1s 77us/sample - loss: 0.5956 - main_output_loss: 0.5244 - aux_output_loss: 1.2366 - val_loss: 0.5789 - val_main_output_loss: 0.5013 - val_aux_output_loss: 1.2763\n",
      "Epoch 8/20\n",
      "11610/11610 [==============================] - 1s 81us/sample - loss: 0.5732 - main_output_loss: 0.5058 - aux_output_loss: 1.1781 - val_loss: 0.5485 - val_main_output_loss: 0.4778 - val_aux_output_loss: 1.1835\n",
      "Epoch 9/20\n",
      "11610/11610 [==============================] - 1s 88us/sample - loss: 0.5552 - main_output_loss: 0.4907 - aux_output_loss: 1.1346 - val_loss: 0.5232 - val_main_output_loss: 0.4569 - val_aux_output_loss: 1.1190\n",
      "Epoch 10/20\n",
      "11610/11610 [==============================] - 1s 90us/sample - loss: 0.5405 - main_output_loss: 0.4784 - aux_output_loss: 1.0986 - val_loss: 0.5080 - val_main_output_loss: 0.4449 - val_aux_output_loss: 1.0745\n",
      "Epoch 11/20\n",
      "11610/11610 [==============================] - 1s 86us/sample - loss: 0.5278 - main_output_loss: 0.4680 - aux_output_loss: 1.0662 - val_loss: 0.4953 - val_main_output_loss: 0.4341 - val_aux_output_loss: 1.0450\n",
      "Epoch 12/20\n",
      "11610/11610 [==============================] - 1s 86us/sample - loss: 0.5167 - main_output_loss: 0.4592 - aux_output_loss: 1.0362 - val_loss: 0.4848 - val_main_output_loss: 0.4250 - val_aux_output_loss: 1.0222\n",
      "Epoch 13/20\n",
      "11610/11610 [==============================] - 1s 76us/sample - loss: 0.5077 - main_output_loss: 0.4520 - aux_output_loss: 1.0086 - val_loss: 0.4790 - val_main_output_loss: 0.4201 - val_aux_output_loss: 1.0079\n",
      "Epoch 14/20\n",
      "11610/11610 [==============================] - 1s 78us/sample - loss: 0.5006 - main_output_loss: 0.4471 - aux_output_loss: 0.9841 - val_loss: 0.4733 - val_main_output_loss: 0.4154 - val_aux_output_loss: 0.9930\n",
      "Epoch 15/20\n",
      "11610/11610 [==============================] - 1s 74us/sample - loss: 0.4941 - main_output_loss: 0.4423 - aux_output_loss: 0.9589 - val_loss: 0.4701 - val_main_output_loss: 0.4140 - val_aux_output_loss: 0.9738\n",
      "Epoch 16/20\n",
      "11610/11610 [==============================] - 1s 76us/sample - loss: 0.4885 - main_output_loss: 0.4387 - aux_output_loss: 0.9374 - val_loss: 0.4627 - val_main_output_loss: 0.4069 - val_aux_output_loss: 0.9637\n",
      "Epoch 17/20\n",
      "11610/11610 [==============================] - 1s 80us/sample - loss: 0.4836 - main_output_loss: 0.4356 - aux_output_loss: 0.9156 - val_loss: 0.4589 - val_main_output_loss: 0.4039 - val_aux_output_loss: 0.9530\n",
      "Epoch 18/20\n",
      "11610/11610 [==============================] - 1s 79us/sample - loss: 0.4787 - main_output_loss: 0.4323 - aux_output_loss: 0.8958 - val_loss: 0.4563 - val_main_output_loss: 0.4032 - val_aux_output_loss: 0.9334\n",
      "Epoch 19/20\n",
      "11610/11610 [==============================] - 1s 79us/sample - loss: 0.4749 - main_output_loss: 0.4303 - aux_output_loss: 0.8769 - val_loss: 0.4524 - val_main_output_loss: 0.3997 - val_aux_output_loss: 0.9256\n",
      "Epoch 20/20\n",
      "11610/11610 [==============================] - 1s 75us/sample - loss: 0.4711 - main_output_loss: 0.4280 - aux_output_loss: 0.8590 - val_loss: 0.4501 - val_main_output_loss: 0.3984 - val_aux_output_loss: 0.9141\n"
     ]
    }
   ],
   "source": [
    "history = model.fit([X_train_A, X_train_B], [y_train, y_train], epochs=20,\n",
    "                    validation_data=([X_valid_A, X_valid_B], [y_valid, y_valid])) # fit the model"
   ]
  },
  {
   "cell_type": "code",
   "execution_count": 26,
   "metadata": {},
   "outputs": [
    {
     "name": "stdout",
     "output_type": "stream",
     "text": [
      "5160/5160 [==============================] - 0s 43us/sample - loss: 0.4620 - main_output_loss: 0.4210 - aux_output_loss: 0.8343\n"
     ]
    }
   ],
   "source": [
    "total_loss, main_loss, aux_loss = model.evaluate(\n",
    "    [X_test_A, X_test_B], [y_test, y_test])\n",
    "y_pred_main, y_pred_aux = model.predict([X_new_A, X_new_B]) # predicting using aux layer"
   ]
  },
  {
   "cell_type": "code",
   "execution_count": 27,
   "metadata": {},
   "outputs": [
    {
     "name": "stdout",
     "output_type": "stream",
     "text": [
      "Model: \"model_2\"\n",
      "__________________________________________________________________________________________________\n",
      "Layer (type)                    Output Shape         Param #     Connected to                     \n",
      "==================================================================================================\n",
      "deep_input (InputLayer)         [(None, 6)]          0                                            \n",
      "__________________________________________________________________________________________________\n",
      "dense_7 (Dense)                 (None, 30)           210         deep_input[0][0]                 \n",
      "__________________________________________________________________________________________________\n",
      "wide_input (InputLayer)         [(None, 5)]          0                                            \n",
      "__________________________________________________________________________________________________\n",
      "dense_8 (Dense)                 (None, 30)           930         dense_7[0][0]                    \n",
      "__________________________________________________________________________________________________\n",
      "concatenate_2 (Concatenate)     (None, 35)           0           wide_input[0][0]                 \n",
      "                                                                 dense_8[0][0]                    \n",
      "__________________________________________________________________________________________________\n",
      "main_output (Dense)             (None, 1)            36          concatenate_2[0][0]              \n",
      "__________________________________________________________________________________________________\n",
      "aux_output (Dense)              (None, 1)            31          dense_8[0][0]                    \n",
      "==================================================================================================\n",
      "Total params: 1,207\n",
      "Trainable params: 1,207\n",
      "Non-trainable params: 0\n",
      "__________________________________________________________________________________________________\n"
     ]
    }
   ],
   "source": [
    "model.summary()"
   ]
  },
  {
   "cell_type": "code",
   "execution_count": 28,
   "metadata": {},
   "outputs": [
    {
     "data": {
      "image/png": "[encoded data removed]",
      "text/plain": [
       "<IPython.core.display.Image object>"
      ]
     },
     "execution_count": 28,
     "metadata": {},
     "output_type": "execute_result"
    }
   ],
   "source": [
    "keras.utils.plot_model(model, \"wide_and_narrow_2_inputs_2_outputs.png\", show_shapes=True)"
   ]
  },
  {
   "cell_type": "markdown",
   "metadata": {},
   "source": [
    "### SubClassing API"
   ]
  },
  {
   "cell_type": "code",
   "execution_count": 29,
   "metadata": {},
   "outputs": [],
   "source": [
    "# Creating the WideAndDeepModel using subclassing\n",
    "\n",
    "class WideAndDeepModel(keras.models.Model):\n",
    "    def __init__(self, units=30, activation=\"relu\", **kwargs):\n",
    "        super().__init__(**kwargs)\n",
    "        self.hidden1 = keras.layers.Dense(units, activation=activation)\n",
    "        self.hidden2 = keras.layers.Dense(units, activation=activation)\n",
    "        self.main_output = keras.layers.Dense(1)\n",
    "        self.aux_output = keras.layers.Dense(1)\n",
    "        \n",
    "    def call(self, inputs):\n",
    "        input_A, input_B = inputs\n",
    "        hidden1 = self.hidden1(input_B)\n",
    "        hidden2 = self.hidden2(hidden1)\n",
    "        concat = keras.layers.concatenate([input_A, hidden2])\n",
    "        main_output = self.main_output(concat)\n",
    "        aux_output = self.aux_output(hidden2)\n",
    "        return main_output, aux_output\n",
    "\n",
    "model = WideAndDeepModel(30, activation=\"relu\")"
   ]
  },
  {
   "cell_type": "code",
   "execution_count": 30,
   "metadata": {},
   "outputs": [
    {
     "name": "stdout",
     "output_type": "stream",
     "text": [
      "Train on 11610 samples, validate on 3870 samples\n",
      "Epoch 1/10\n",
      "11610/11610 [==============================] - 2s 159us/sample - loss: 2.6273 - output_1_loss: 2.3216 - output_2_loss: 5.3702 - val_loss: 10.1114 - val_output_1_loss: 10.3759 - val_output_2_loss: 7.6836\n",
      "Epoch 2/10\n",
      "11610/11610 [==============================] - 1s 104us/sample - loss: 1.1419 - output_1_loss: 0.8475 - output_2_loss: 3.7931 - val_loss: 2.0641 - val_output_1_loss: 1.2161 - val_output_2_loss: 9.6884\n",
      "Epoch 3/10\n",
      "11610/11610 [==============================] - 1s 99us/sample - loss: 0.8468 - output_1_loss: 0.6484 - output_2_loss: 2.6311 - val_loss: 1.6251 - val_output_1_loss: 0.5848 - val_output_2_loss: 10.9816\n",
      "Epoch 4/10\n",
      "11610/11610 [==============================] - 1s 95us/sample - loss: 0.7416 - output_1_loss: 0.5966 - output_2_loss: 2.0443 - val_loss: 1.6214 - val_output_1_loss: 0.5835 - val_output_2_loss: 10.9560\n",
      "Epoch 5/10\n",
      "11610/11610 [==============================] - 1s 96us/sample - loss: 0.6837 - output_1_loss: 0.5637 - output_2_loss: 1.7638 - val_loss: 1.5901 - val_output_1_loss: 0.6514 - val_output_2_loss: 10.0315\n",
      "Epoch 6/10\n",
      "11610/11610 [==============================] - 1s 102us/sample - loss: 0.6461 - output_1_loss: 0.5387 - output_2_loss: 1.6120 - val_loss: 1.4035 - val_output_1_loss: 0.5861 - val_output_2_loss: 8.7542\n",
      "Epoch 7/10\n",
      "11610/11610 [==============================] - 1s 106us/sample - loss: 0.6167 - output_1_loss: 0.5170 - output_2_loss: 1.5147 - val_loss: 1.2368 - val_output_1_loss: 0.5474 - val_output_2_loss: 7.4367\n",
      "Epoch 8/10\n",
      "11610/11610 [==============================] - 1s 104us/sample - loss: 0.5934 - output_1_loss: 0.4991 - output_2_loss: 1.4407 - val_loss: 1.0758 - val_output_1_loss: 0.5024 - val_output_2_loss: 6.2329\n",
      "Epoch 9/10\n",
      "11610/11610 [==============================] - 1s 99us/sample - loss: 0.5738 - output_1_loss: 0.4841 - output_2_loss: 1.3807 - val_loss: 0.9543 - val_output_1_loss: 0.4771 - val_output_2_loss: 5.2462\n",
      "Epoch 10/10\n",
      "11610/11610 [==============================] - 1s 79us/sample - loss: 0.5579 - output_1_loss: 0.4720 - output_2_loss: 1.3300 - val_loss: 0.8563 - val_output_1_loss: 0.4570 - val_output_2_loss: 4.4462\n",
      "5160/5160 [==============================] - 0s 42us/sample - loss: 0.5378 - output_1_loss: 0.4547 - output_2_loss: 1.2931\n"
     ]
    }
   ],
   "source": [
    "# Compiling, evaluating, and predicting the model\n",
    "\n",
    "model.compile(loss=\"mse\", loss_weights=[0.9, 0.1], optimizer=keras.optimizers.SGD(lr=1e-3))\n",
    "history = model.fit((X_train_A, X_train_B), (y_train, y_train), epochs=10,\n",
    "                    validation_data=((X_valid_A, X_valid_B), (y_valid, y_valid)))\n",
    "total_loss, main_loss, aux_loss = model.evaluate((X_test_A, X_test_B), (y_test, y_test))\n",
    "y_pred_main, y_pred_aux = model.predict((X_new_A, X_new_B))"
   ]
  },
  {
   "cell_type": "code",
   "execution_count": 31,
   "metadata": {},
   "outputs": [
    {
     "name": "stdout",
     "output_type": "stream",
     "text": [
      "Model: \"wide_and_deep_model\"\n",
      "_________________________________________________________________\n",
      "Layer (type)                 Output Shape              Param #   \n",
      "=================================================================\n",
      "dense_9 (Dense)              multiple                  210       \n",
      "_________________________________________________________________\n",
      "dense_10 (Dense)             multiple                  930       \n",
      "_________________________________________________________________\n",
      "dense_11 (Dense)             multiple                  36        \n",
      "_________________________________________________________________\n",
      "dense_12 (Dense)             multiple                  31        \n",
      "=================================================================\n",
      "Total params: 1,207\n",
      "Trainable params: 1,207\n",
      "Non-trainable params: 0\n",
      "_________________________________________________________________\n"
     ]
    }
   ],
   "source": [
    "model.summary()"
   ]
  },
  {
   "cell_type": "markdown",
   "metadata": {},
   "source": [
    "### Saving and Restoring"
   ]
  },
  {
   "cell_type": "code",
   "execution_count": 32,
   "metadata": {},
   "outputs": [],
   "source": [
    "# creating a model to demonstrate saving and restoring\n",
    "\n",
    "model = keras.models.Sequential([\n",
    "    keras.layers.Dense(30, activation=\"relu\", input_shape=[8]),\n",
    "    keras.layers.Dense(30, activation=\"relu\"),\n",
    "    keras.layers.Dense(1)\n",
    "])  "
   ]
  },
  {
   "cell_type": "code",
   "execution_count": 33,
   "metadata": {},
   "outputs": [
    {
     "name": "stdout",
     "output_type": "stream",
     "text": [
      "Train on 11610 samples, validate on 3870 samples\n",
      "Epoch 1/10\n",
      "11610/11610 [==============================] - 1s 115us/sample - loss: 2.0284 - val_loss: 5.5453\n",
      "Epoch 2/10\n",
      "11610/11610 [==============================] - 1s 67us/sample - loss: 0.8483 - val_loss: 0.7947\n",
      "Epoch 3/10\n",
      "11610/11610 [==============================] - 1s 65us/sample - loss: 0.7207 - val_loss: 0.6519\n",
      "Epoch 4/10\n",
      "11610/11610 [==============================] - 1s 67us/sample - loss: 0.6700 - val_loss: 0.6097\n",
      "Epoch 5/10\n",
      "11610/11610 [==============================] - 1s 66us/sample - loss: 0.6324 - val_loss: 0.5889\n",
      "Epoch 6/10\n",
      "11610/11610 [==============================] - 1s 66us/sample - loss: 0.6011 - val_loss: 0.5494\n",
      "Epoch 7/10\n",
      "11610/11610 [==============================] - 1s 68us/sample - loss: 0.5716 - val_loss: 0.5206\n",
      "Epoch 8/10\n",
      "11610/11610 [==============================] - 1s 68us/sample - loss: 0.5465 - val_loss: 0.5263\n",
      "Epoch 9/10\n",
      "11610/11610 [==============================] - 1s 66us/sample - loss: 0.5233 - val_loss: 0.4744\n",
      "Epoch 10/10\n",
      "11610/11610 [==============================] - 1s 69us/sample - loss: 0.5029 - val_loss: 0.4611\n",
      "5160/5160 [==============================] - 0s 35us/sample - loss: 0.4936\n"
     ]
    }
   ],
   "source": [
    "model.compile(loss=\"mse\", optimizer=keras.optimizers.SGD(lr=1e-3)) # compile the model\n",
    "history = model.fit(X_train, y_train, epochs=10, validation_data=(X_valid, y_valid)) # fit the model\n",
    "mse_test = model.evaluate(X_test, y_test) # evalutate the model"
   ]
  },
  {
   "cell_type": "code",
   "execution_count": 34,
   "metadata": {},
   "outputs": [],
   "source": [
    "model.save(\"my_keras_model.h5\") # Saving the model"
   ]
  },
  {
   "cell_type": "code",
   "execution_count": 35,
   "metadata": {},
   "outputs": [
    {
     "name": "stdout",
     "output_type": "stream",
     "text": [
      "TREE\r\n",
      "HEAP\r\n",
      "model_weights\r\n",
      "optimizer_weights\r\n",
      "keras_version\r\n",
      "backend\r\n",
      "model_config\r\n",
      "training_config\r\n",
      "TREE\r\n",
      "HEAP\r\n",
      "dense_13\r\n",
      "dense_14\r\n",
      "dense_15\r\n",
      "layer_names\r\n",
      "dense_13dense_14dense_15\r\n",
      "GCOL\r\n",
      "2.2.4-tf\r\n",
      "tensorflow\r\n",
      "{\"class_name\": \"Sequential\", \"config\": {\"name\": \"sequential_1\", \"layers\": [{\"class_name\": \"Dense\", \"config\": {\"name\": \"dense_13\", \"trainable\": true, \"batch_input_shape\": [null, 8], \"dtype\": \"float32\", \"units\": 30, \"activation\": \"relu\", \"use_bias\": true, \"kernel_initializer\": {\"class_name\": \"GlorotUniform\", \"config\": {\"seed\": null}}, \"bias_initializer\": {\"class_name\": \"Zeros\", \"config\": {}}, \"kernel_regularizer\": null, \"bias_regularizer\": null, \"activity_regularizer\": null, \"kernel_constraint\": null, \"bias_constraint\": null}}, {\"class_name\": \"Dense\", \"config\": {\"name\": \"dense_14\", \"trainable\": true, \"dtype\": \"float32\", \"units\": 30, \"activation\": \"relu\", \"use_bias\": true, \"kernel_initializer\": {\"class_name\": \"GlorotUniform\", \"config\": {\"seed\": null}}, \"bias_initializer\": {\"class_name\": \"Zeros\", \"config\": {}}, \"kernel_regularizer\": null, \"bias_regularizer\": null, \"activity_regularizer\": null, \"kernel_constraint\": null, \"bias_constraint\": null}}, {\"class_name\": \"Dense\", \"config\": {\"name\": \"dense_15\", \"trainable\": true, \"dtype\": \"float32\", \"units\": 1, \"activation\": \"linear\", \"use_bias\": true, \"kernel_initializer\": {\"class_name\": \"GlorotUniform\", \"config\": {\"seed\": null}}, \"bias_initializer\": {\"class_name\": \"Zeros\", \"config\": {}}, \"kernel_regularizer\": null, \"bias_regularizer\": null, \"activity_regularizer\": null, \"kernel_constraint\": null, \"bias_constraint\": null}}]}}\r\n",
      "{\"loss\": \"mse\", \"metrics\": [], \"weighted_metrics\": null, \"sample_weight_mode\": null, \"loss_weights\": null, \"optimizer_config\": {\"class_name\": \"SGD\", \"config\": {\"name\": \"SGD\", \"learning_rate\": 0.0010000000474974513, \"decay\": 0.0, \"momentum\": 0.0, \"nesterov\": false}}}\r\n",
      "tensorflow\r\n",
      "2.2.4-tf\r\n",
      "SNOD\r\n",
      "backend\r\n",
      "keras_version\r\n",
      "TREE\r\n",
      "HEAP\r\n",
      "dense_13\r\n",
      "SNOD\r\n",
      "weight_names\r\n",
      "dense_13/kernel:0dense_13/bias:0\r\n",
      ":WZ_\r\n",
      "TREE\r\n",
      "HEAP\r\n",
      "kernel:0\r\n",
      "bias:0\r\n",
      "SNOD\r\n",
      "SNOD\r\n",
      "%(>}\r\n",
      "_L\t>\r\n",
      "f>lA\r\n",
      "tc>[\r\n",
      "|>`S\r\n",
      "F=H+\r\n",
      "/(>w\r\n",
      "t>_<\r\n",
      "K|!>\r\n",
      ";>3T\r\n",
      "K>9R\r\n",
      "Es~>\r\n",
      "=Q/f\r\n",
      "m<cv\\\r\n",
      "KO(>\r\n",
      "(->mK\r\n",
      "Zp>\"\r\n",
      ":WZ_\r\n",
      "TREE\r\n",
      "HEAP\r\n",
      "dense_14\r\n",
      "weight_names\r\n",
      "dense_14/kernel:0dense_14/bias:0\r\n",
      ":WZ_\r\n",
      "TREE\r\n",
      "HEAP\r\n",
      "kernel:0\r\n",
      "bias:0\r\n",
      "SNOD\r\n",
      "SNOD\r\n",
      ";>j`i>\r\n",
      "QR>=d\t\r\n",
      "G>Y$\r\n",
      "l>:q\r\n",
      "~d=.\r\n",
      "r>`S1\r\n",
      "R,*=\r\n",
      "\"=|w\r\n",
      "[>}rq>=\r\n",
      ",` >\r\n",
      "W(>+y2\r\n",
      "?}4=e\r\n",
      "mDc>\r\n",
      "ff>'\r\n",
      "q=o+U>tBo\r\n",
      "s=dL?=o\r\n",
      ">qcI>\r\n",
      "W\t>v\r\n",
      ">r\"2>\r\n",
      "S>R_\r\n",
      ">')h\r\n",
      ".>NT\r\n",
      "N>.\"\r\n",
      "js>a\r\n",
      "~>..\r\n",
      ">r%G>\r\n",
      "<;>e\r\n",
      "6 E>P\r\n",
      "V>*LT\r\n",
      "\\>Y,}<\r\n",
      ")#>x\r\n",
      "(}>{\r\n",
      "#&>\"\r\n",
      "g>tI\r\n",
      "[$>4&\r\n",
      "O>2N\r\n",
      "E><)?>v\r\n",
      "n:>t\r\n",
      "niT=;s\r\n",
      "^I>=\r\n",
      "SaQ>\r\n",
      "!k>.v\r\n",
      "|>+s\r\n",
      "AO>/> \r\n",
      "'>eZ\r\n",
      "@2V>w\r\n",
      ".i>/=)<\r\n",
      ">[As\r\n",
      "[4x<\r\n",
      "YR>0\r\n",
      ">oZ)\r\n",
      "=^ 5\r\n",
      "B>dI\r\n",
      "mn>4\r\n",
      "Z>,f\r\n",
      "=^/F\r\n",
      ">Z3r\r\n",
      "=q'>|%\r\n",
      "B~>\"\r\n",
      "=Q))=\r\n",
      "IC3>\r\n",
      "\"I>=\r\n",
      ":WZ_\r\n",
      "TREE\r\n",
      "HEAP\r\n",
      "dense_15\r\n",
      "weight_names\r\n",
      "dense_15/kernel:0dense_15/bias:0\r\n",
      ":WZ_\r\n",
      "TREE\r\n",
      "HEAP\r\n",
      "kernel:0\r\n",
      "bias:0\r\n",
      "SNOD\r\n",
      "SNOD\r\n",
      ":WZ_\r\n",
      "TREE\r\n",
      "HEAP\r\n",
      "weight_names\r\n",
      "SGD/iter:0\r\n",
      ":WZ_\r\n",
      "TREE\r\n",
      "HEAP\r\n",
      "iter:0\r\n",
      "SNOD\r\n",
      "SNOD\r\n"
     ]
    }
   ],
   "source": [
    "!strings my_keras_model.h5"
   ]
  },
  {
   "cell_type": "code",
   "execution_count": 36,
   "metadata": {},
   "outputs": [],
   "source": [
    "model1 = keras.models.load_model(\"my_keras_model.h5\") # Loading the model"
   ]
  },
  {
   "cell_type": "code",
   "execution_count": 37,
   "metadata": {},
   "outputs": [
    {
     "data": {
      "text/plain": [
       "array([[0.7171394],\n",
       "       [1.419239 ],\n",
       "       [2.9505818]], dtype=float32)"
      ]
     },
     "execution_count": 37,
     "metadata": {},
     "output_type": "execute_result"
    }
   ],
   "source": [
    "model1.predict(X_new)"
   ]
  },
  {
   "cell_type": "code",
   "execution_count": 38,
   "metadata": {},
   "outputs": [],
   "source": [
    "model.save_weights(\"my_keras_weights.ckpt\") # saving the weights"
   ]
  },
  {
   "cell_type": "code",
   "execution_count": 39,
   "metadata": {},
   "outputs": [
    {
     "data": {
      "text/plain": [
       "<tensorflow.python.training.tracking.util.CheckpointLoadStatus at 0x7f8eec4dbb70>"
      ]
     },
     "execution_count": 39,
     "metadata": {},
     "output_type": "execute_result"
    }
   ],
   "source": [
    "model.load_weights(\"my_keras_weights.ckpt\") # loading the saved weights"
   ]
  },
  {
   "cell_type": "markdown",
   "metadata": {},
   "source": [
    "### Using Callbacks"
   ]
  },
  {
   "cell_type": "code",
   "execution_count": 40,
   "metadata": {},
   "outputs": [],
   "source": [
    "# Defining the model to demostrate callbacks\n",
    "\n",
    "model = keras.models.Sequential([\n",
    "    keras.layers.Dense(30, activation=\"relu\", input_shape=[8]),\n",
    "    keras.layers.Dense(30, activation=\"relu\"),\n",
    "    keras.layers.Dense(1)\n",
    "])  "
   ]
  },
  {
   "cell_type": "code",
   "execution_count": 41,
   "metadata": {},
   "outputs": [
    {
     "name": "stdout",
     "output_type": "stream",
     "text": [
      "Train on 11610 samples, validate on 3870 samples\n",
      "Epoch 1/30\n",
      "11610/11610 [==============================] - 1s 101us/sample - loss: 2.2523 - val_loss: 3.1653\n",
      "Epoch 2/30\n",
      "11610/11610 [==============================] - 1s 79us/sample - loss: 0.8063 - val_loss: 0.7010\n",
      "Epoch 3/30\n",
      "11610/11610 [==============================] - 1s 74us/sample - loss: 0.6213 - val_loss: 0.5690\n",
      "Epoch 4/30\n",
      "11610/11610 [==============================] - 1s 74us/sample - loss: 0.5718 - val_loss: 0.5410\n",
      "Epoch 5/30\n",
      "11610/11610 [==============================] - 1s 71us/sample - loss: 0.5366 - val_loss: 0.5100\n",
      "Epoch 6/30\n",
      "11610/11610 [==============================] - 1s 70us/sample - loss: 0.5080 - val_loss: 0.4764\n",
      "Epoch 7/30\n",
      "11610/11610 [==============================] - 1s 93us/sample - loss: 0.4842 - val_loss: 0.4547\n",
      "Epoch 8/30\n",
      "11610/11610 [==============================] - 1s 113us/sample - loss: 0.4658 - val_loss: 0.4334\n",
      "Epoch 9/30\n",
      "11610/11610 [==============================] - 1s 101us/sample - loss: 0.4515 - val_loss: 0.4226\n",
      "Epoch 10/30\n",
      "11610/11610 [==============================] - 1s 73us/sample - loss: 0.4397 - val_loss: 0.4132\n",
      "Epoch 11/30\n",
      "11610/11610 [==============================] - 1s 85us/sample - loss: 0.4302 - val_loss: 0.4045\n",
      "Epoch 12/30\n",
      "11610/11610 [==============================] - 1s 66us/sample - loss: 0.4220 - val_loss: 0.4067\n",
      "Epoch 13/30\n",
      "11610/11610 [==============================] - 1s 74us/sample - loss: 0.4158 - val_loss: 0.3951\n",
      "Epoch 14/30\n",
      "11610/11610 [==============================] - 1s 75us/sample - loss: 0.4112 - val_loss: 0.3934\n",
      "Epoch 15/30\n",
      "11610/11610 [==============================] - 1s 65us/sample - loss: 0.4068 - val_loss: 0.4184\n",
      "Epoch 16/30\n",
      "11610/11610 [==============================] - 1s 72us/sample - loss: 0.4032 - val_loss: 0.3847\n",
      "Epoch 17/30\n",
      "11610/11610 [==============================] - 1s 66us/sample - loss: 0.4002 - val_loss: 0.3854\n",
      "Epoch 18/30\n",
      "11610/11610 [==============================] - 1s 64us/sample - loss: 0.3967 - val_loss: 0.3992\n",
      "Epoch 19/30\n",
      "11610/11610 [==============================] - 1s 66us/sample - loss: 0.3943 - val_loss: 0.3866\n",
      "Epoch 20/30\n",
      "11610/11610 [==============================] - 1s 69us/sample - loss: 0.3919 - val_loss: 0.3979\n",
      "Epoch 21/30\n",
      "11610/11610 [==============================] - 1s 70us/sample - loss: 0.3894 - val_loss: 0.3759\n",
      "Epoch 22/30\n",
      "11610/11610 [==============================] - 1s 64us/sample - loss: 0.3873 - val_loss: 0.3982\n",
      "Epoch 23/30\n",
      "11610/11610 [==============================] - 1s 66us/sample - loss: 0.3856 - val_loss: 0.3783\n",
      "Epoch 24/30\n",
      "11610/11610 [==============================] - 1s 74us/sample - loss: 0.3835 - val_loss: 0.3685\n",
      "Epoch 25/30\n",
      "11610/11610 [==============================] - 1s 66us/sample - loss: 0.3818 - val_loss: 0.3762\n",
      "Epoch 26/30\n",
      "11610/11610 [==============================] - 1s 68us/sample - loss: 0.3805 - val_loss: 0.3793\n",
      "Epoch 27/30\n",
      "11610/11610 [==============================] - 1s 67us/sample - loss: 0.3785 - val_loss: 0.3938\n",
      "Epoch 28/30\n",
      "11610/11610 [==============================] - 1s 65us/sample - loss: 0.3773 - val_loss: 0.3831\n",
      "Epoch 29/30\n",
      "11610/11610 [==============================] - 1s 65us/sample - loss: 0.3761 - val_loss: 0.4035\n",
      "Epoch 30/30\n",
      "11610/11610 [==============================] - 1s 66us/sample - loss: 0.3748 - val_loss: 0.3894\n",
      "5160/5160 [==============================] - 0s 44us/sample - loss: 0.3797\n"
     ]
    }
   ],
   "source": [
    "model.compile(loss=\"mse\", optimizer=keras.optimizers.SGD(lr=1e-3))\n",
    "checkpoint_cb = keras.callbacks.ModelCheckpoint(\"my_keras_model.h5\", save_best_only=True) # saving the best model checkpoint\n",
    "history = model.fit(X_train, y_train, epochs=30,\n",
    "                    validation_data=(X_valid, y_valid),\n",
    "                    callbacks=[checkpoint_cb]) # using the callback\n",
    "model = keras.models.load_model(\"my_keras_model.h5\") # rollback to best model\n",
    "mse_test = model.evaluate(X_test, y_test)"
   ]
  },
  {
   "cell_type": "code",
   "execution_count": 42,
   "metadata": {},
   "outputs": [
    {
     "name": "stdout",
     "output_type": "stream",
     "text": [
      "my_keras_model.h5\r\n"
     ]
    }
   ],
   "source": [
    "!ls my_keras_model.h5"
   ]
  },
  {
   "cell_type": "code",
   "execution_count": 43,
   "metadata": {},
   "outputs": [
    {
     "name": "stdout",
     "output_type": "stream",
     "text": [
      "Train on 11610 samples, validate on 3870 samples\n",
      "Epoch 1/100\n",
      "11610/11610 [==============================] - 1s 91us/sample - loss: 0.3821 - val_loss: 0.3912\n",
      "Epoch 2/100\n",
      "11610/11610 [==============================] - 1s 67us/sample - loss: 0.3805 - val_loss: 0.3858\n",
      "Epoch 3/100\n",
      "11610/11610 [==============================] - 1s 64us/sample - loss: 0.3789 - val_loss: 0.3854\n",
      "Epoch 4/100\n",
      "11610/11610 [==============================] - 1s 66us/sample - loss: 0.3777 - val_loss: 0.3919\n",
      "Epoch 5/100\n",
      "11610/11610 [==============================] - 1s 65us/sample - loss: 0.3763 - val_loss: 0.3853\n",
      "Epoch 6/100\n",
      "11610/11610 [==============================] - 1s 67us/sample - loss: 0.3750 - val_loss: 0.3962\n",
      "Epoch 7/100\n",
      "11610/11610 [==============================] - 1s 65us/sample - loss: 0.3738 - val_loss: 0.3756\n",
      "Epoch 8/100\n",
      "11610/11610 [==============================] - 1s 80us/sample - loss: 0.3727 - val_loss: 0.3634\n",
      "Epoch 9/100\n",
      "11610/11610 [==============================] - 1s 72us/sample - loss: 0.3714 - val_loss: 0.3772\n",
      "Epoch 10/100\n",
      "11610/11610 [==============================] - 1s 67us/sample - loss: 0.3704 - val_loss: 0.3750\n",
      "Epoch 11/100\n",
      "11610/11610 [==============================] - 1s 78us/sample - loss: 0.3695 - val_loss: 0.3597\n",
      "Epoch 12/100\n",
      "11610/11610 [==============================] - 1s 62us/sample - loss: 0.3683 - val_loss: 0.3636\n",
      "Epoch 13/100\n",
      "11610/11610 [==============================] - 1s 76us/sample - loss: 0.3673 - val_loss: 0.3587\n",
      "Epoch 14/100\n",
      "11610/11610 [==============================] - 1s 75us/sample - loss: 0.3666 - val_loss: 0.3577\n",
      "Epoch 15/100\n",
      "11610/11610 [==============================] - 1s 68us/sample - loss: 0.3658 - val_loss: 0.3768\n",
      "Epoch 16/100\n",
      "11610/11610 [==============================] - 1s 75us/sample - loss: 0.3648 - val_loss: 0.3538\n",
      "Epoch 17/100\n",
      "11610/11610 [==============================] - 1s 75us/sample - loss: 0.3641 - val_loss: 0.3519\n",
      "Epoch 18/100\n",
      "11610/11610 [==============================] - 1s 66us/sample - loss: 0.3630 - val_loss: 0.3590\n",
      "Epoch 19/100\n",
      "11610/11610 [==============================] - 1s 68us/sample - loss: 0.3624 - val_loss: 0.3528\n",
      "Epoch 20/100\n",
      "11610/11610 [==============================] - 1s 67us/sample - loss: 0.3617 - val_loss: 0.3592\n",
      "5160/5160 [==============================] - 0s 35us/sample - loss: 0.3617\n"
     ]
    }
   ],
   "source": [
    "model.compile(loss=\"mse\", optimizer=keras.optimizers.SGD(lr=1e-3))\n",
    "early_stopping_cb = keras.callbacks.EarlyStopping(patience=3,\n",
    "                                                  restore_best_weights=True)\n",
    "history = model.fit(X_train, y_train, epochs=100,\n",
    "                    validation_data=(X_valid, y_valid),\n",
    "                    callbacks=[checkpoint_cb, early_stopping_cb])\n",
    "mse_test = model.evaluate(X_test, y_test)"
   ]
  },
  {
   "cell_type": "code",
   "execution_count": 44,
   "metadata": {},
   "outputs": [
    {
     "name": "stdout",
     "output_type": "stream",
     "text": [
      "3870/3870 [==============================] - 0s 35us/sample - loss: 0.3519\n"
     ]
    }
   ],
   "source": [
    "mse_test = model.evaluate(X_valid, y_valid)"
   ]
  },
  {
   "cell_type": "code",
   "execution_count": 45,
   "metadata": {},
   "outputs": [],
   "source": [
    "# Creating custom callback\n",
    "\n",
    "class PrintValTrainRatioCallback(keras.callbacks.Callback):\n",
    "    def on_epoch_end(self, epoch, logs):\n",
    "        print(\"\\n SG :: val/train: {:.2f}\".format(logs[\"val_loss\"] / logs[\"loss\"]))"
   ]
  },
  {
   "cell_type": "code",
   "execution_count": 46,
   "metadata": {},
   "outputs": [
    {
     "name": "stdout",
     "output_type": "stream",
     "text": [
      "Train on 11610 samples, validate on 3870 samples\n",
      "Epoch 1/5\n",
      "11200/11610 [===========================>..] - ETA: 0s - loss: 0.3638\n",
      " SG :: val/train: 1.01\n",
      "11610/11610 [==============================] - 1s 69us/sample - loss: 0.3631 - val_loss: 0.3662\n",
      "Epoch 2/5\n",
      "11488/11610 [============================>.] - ETA: 0s - loss: 0.3610\n",
      " SG :: val/train: 0.99\n",
      "11610/11610 [==============================] - 1s 69us/sample - loss: 0.3625 - val_loss: 0.3572\n",
      "Epoch 3/5\n",
      "10688/11610 [==========================>...] - ETA: 0s - loss: 0.3624\n",
      " SG :: val/train: 1.00\n",
      "11610/11610 [==============================] - 1s 67us/sample - loss: 0.3615 - val_loss: 0.3598\n",
      "Epoch 4/5\n",
      "11008/11610 [===========================>..] - ETA: 0s - loss: 0.3607\n",
      " SG :: val/train: 1.01\n",
      "11610/11610 [==============================] - 1s 70us/sample - loss: 0.3612 - val_loss: 0.3642\n",
      "Epoch 5/5\n",
      "11488/11610 [============================>.] - ETA: 0s - loss: 0.3590\n",
      " SG :: val/train: 0.99\n",
      "11610/11610 [==============================] - 1s 68us/sample - loss: 0.3604 - val_loss: 0.3573\n"
     ]
    }
   ],
   "source": [
    "val_train_ratio_cb = PrintValTrainRatioCallback() # calling the custom callback\n",
    "history = model.fit(X_train, y_train, epochs=5,\n",
    "                    validation_data=(X_valid, y_valid),\n",
    "                    callbacks=[val_train_ratio_cb]) # fitting the model using the custom callback"
   ]
  },
  {
   "cell_type": "markdown",
   "metadata": {},
   "source": [
    "### TensorBoard Visualisation"
   ]
  },
  {
   "cell_type": "code",
   "execution_count": 47,
   "metadata": {},
   "outputs": [],
   "source": [
    "root_logdir = os.path.join(os.curdir, \"my_logs\")"
   ]
  },
  {
   "cell_type": "code",
   "execution_count": 48,
   "metadata": {},
   "outputs": [
    {
     "data": {
      "text/plain": [
       "'./my_logs/run_2020_09_10-16_42_19'"
      ]
     },
     "execution_count": 48,
     "metadata": {},
     "output_type": "execute_result"
    }
   ],
   "source": [
    "def get_run_logdir():\n",
    "    import time\n",
    "    run_id = time.strftime(\"run_%Y_%m_%d-%H_%M_%S\")\n",
    "    return os.path.join(root_logdir, run_id)\n",
    "\n",
    "run_logdir = get_run_logdir()\n",
    "run_logdir"
   ]
  },
  {
   "cell_type": "code",
   "execution_count": 49,
   "metadata": {},
   "outputs": [],
   "source": [
    "keras.backend.clear_session()\n",
    "np.random.seed(42)\n",
    "tf.random.set_seed(42)"
   ]
  },
  {
   "cell_type": "code",
   "execution_count": 50,
   "metadata": {},
   "outputs": [],
   "source": [
    "model = keras.models.Sequential([\n",
    "    keras.layers.Dense(30, activation=\"relu\", input_shape=[8]),\n",
    "    keras.layers.Dense(30, activation=\"relu\"),\n",
    "    keras.layers.Dense(1)\n",
    "])    \n",
    "model.compile(loss=\"mse\", optimizer=keras.optimizers.SGD(lr=1e-3))"
   ]
  },
  {
   "cell_type": "code",
   "execution_count": 51,
   "metadata": {},
   "outputs": [
    {
     "name": "stdout",
     "output_type": "stream",
     "text": [
      "Train on 11610 samples, validate on 3870 samples\n",
      "Epoch 1/30\n",
      "11584/11610 [============================>.] - ETA: 0s - loss: 1.8448\n",
      " SG :: val/train: 2.83\n",
      "11610/11610 [==============================] - 1s 115us/sample - loss: 1.8423 - val_loss: 5.2165\n",
      "Epoch 2/30\n",
      "11392/11610 [============================>.] - ETA: 0s - loss: 0.6866\n",
      " SG :: val/train: 1.12\n",
      "11610/11610 [==============================] - 1s 81us/sample - loss: 0.6876 - val_loss: 0.7732\n",
      "Epoch 3/30\n",
      "10816/11610 [==========================>...] - ETA: 0s - loss: 0.6011\n",
      " SG :: val/train: 0.91\n",
      "11610/11610 [==============================] - 1s 81us/sample - loss: 0.5954 - val_loss: 0.5446\n",
      "Epoch 4/30\n",
      "11456/11610 [============================>.] - ETA: 0s - loss: 0.5569\n",
      " SG :: val/train: 0.98\n",
      "11610/11610 [==============================] - 1s 78us/sample - loss: 0.5553 - val_loss: 0.5425\n",
      "Epoch 5/30\n",
      "11360/11610 [============================>.] - ETA: 0s - loss: 0.5272\n",
      " SG :: val/train: 1.05\n",
      "11610/11610 [==============================] - 1s 78us/sample - loss: 0.5268 - val_loss: 0.5539\n",
      "Epoch 6/30\n",
      "11488/11610 [============================>.] - ETA: 0s - loss: 0.5047\n",
      " SG :: val/train: 0.93\n",
      "11610/11610 [==============================] - 1s 83us/sample - loss: 0.5049 - val_loss: 0.4701\n",
      "Epoch 7/30\n",
      "11392/11610 [============================>.] - ETA: 0s - loss: 0.4861\n",
      " SG :: val/train: 0.94\n",
      "11610/11610 [==============================] - 1s 84us/sample - loss: 0.4852 - val_loss: 0.4562\n",
      "Epoch 8/30\n",
      "11200/11610 [===========================>..] - ETA: 0s - loss: 0.4708\n",
      " SG :: val/train: 0.95\n",
      "11610/11610 [==============================] - 1s 79us/sample - loss: 0.4706 - val_loss: 0.4452\n",
      "Epoch 9/30\n",
      "11584/11610 [============================>.] - ETA: 0s - loss: 0.4580\n",
      " SG :: val/train: 0.96\n",
      "11610/11610 [==============================] - 1s 77us/sample - loss: 0.4576 - val_loss: 0.4406\n",
      "Epoch 10/30\n",
      "11200/11610 [===========================>..] - ETA: 0s - loss: 0.4477\n",
      " SG :: val/train: 0.93\n",
      "11610/11610 [==============================] - 1s 79us/sample - loss: 0.4476 - val_loss: 0.4185\n",
      "Epoch 11/30\n",
      "11488/11610 [============================>.] - ETA: 0s - loss: 0.4393\n",
      " SG :: val/train: 0.98\n",
      "11610/11610 [==============================] - 1s 83us/sample - loss: 0.4388 - val_loss: 0.4285\n",
      "Epoch 12/30\n",
      "11520/11610 [============================>.] - ETA: 0s - loss: 0.4316\n",
      " SG :: val/train: 0.94\n",
      "11610/11610 [==============================] - 1s 88us/sample - loss: 0.4313 - val_loss: 0.4071\n",
      "Epoch 13/30\n",
      "10816/11610 [==========================>...] - ETA: 0s - loss: 0.4266\n",
      " SG :: val/train: 0.94\n",
      "11610/11610 [==============================] - 1s 81us/sample - loss: 0.4252 - val_loss: 0.3998\n",
      "Epoch 14/30\n",
      "11456/11610 [============================>.] - ETA: 0s - loss: 0.4166\n",
      " SG :: val/train: 0.95\n",
      "11610/11610 [==============================] - 1s 78us/sample - loss: 0.4198 - val_loss: 0.3970\n",
      "Epoch 15/30\n",
      "11520/11610 [============================>.] - ETA: 0s - loss: 0.4128\n",
      " SG :: val/train: 0.99\n",
      "11610/11610 [==============================] - 1s 83us/sample - loss: 0.4152 - val_loss: 0.4115\n",
      "Epoch 16/30\n",
      "11328/11610 [============================>.] - ETA: 0s - loss: 0.4115\n",
      " SG :: val/train: 0.94\n",
      "11610/11610 [==============================] - 1s 79us/sample - loss: 0.4109 - val_loss: 0.3849\n",
      "Epoch 17/30\n",
      "11328/11610 [============================>.] - ETA: 0s - loss: 0.4090\n",
      " SG :: val/train: 0.95\n",
      "11610/11610 [==============================] - 1s 81us/sample - loss: 0.4073 - val_loss: 0.3862\n",
      "Epoch 18/30\n",
      "10944/11610 [===========================>..] - ETA: 0s - loss: 0.4095\n",
      " SG :: val/train: 0.97\n",
      "11610/11610 [==============================] - 1s 80us/sample - loss: 0.4037 - val_loss: 0.3907\n",
      "Epoch 19/30\n",
      "11424/11610 [============================>.] - ETA: 0s - loss: 0.4012\n",
      " SG :: val/train: 0.94\n",
      "11610/11610 [==============================] - 1s 78us/sample - loss: 0.4003 - val_loss: 0.3751\n",
      "Epoch 20/30\n",
      "11392/11610 [============================>.] - ETA: 0s - loss: 0.3987\n",
      " SG :: val/train: 0.93\n",
      "11610/11610 [==============================] - 1s 84us/sample - loss: 0.3974 - val_loss: 0.3711\n",
      "Epoch 21/30\n",
      "10848/11610 [===========================>..] - ETA: 0s - loss: 0.3923\n",
      " SG :: val/train: 0.95\n",
      "11610/11610 [==============================] - 1s 83us/sample - loss: 0.3945 - val_loss: 0.3733\n",
      "Epoch 22/30\n",
      "11200/11610 [===========================>..] - ETA: 0s - loss: 0.3908\n",
      " SG :: val/train: 0.94\n",
      "11610/11610 [==============================] - 1s 86us/sample - loss: 0.3919 - val_loss: 0.3676\n",
      "Epoch 23/30\n",
      "10976/11610 [===========================>..] - ETA: 0s - loss: 0.3910\n",
      " SG :: val/train: 0.94\n",
      "11610/11610 [==============================] - 1s 92us/sample - loss: 0.3893 - val_loss: 0.3669\n",
      "Epoch 24/30\n",
      "11456/11610 [============================>.] - ETA: 0s - loss: 0.3871\n",
      " SG :: val/train: 0.93\n",
      "11610/11610 [==============================] - 1s 83us/sample - loss: 0.3869 - val_loss: 0.3614\n",
      "Epoch 25/30\n",
      "11168/11610 [===========================>..] - ETA: 0s - loss: 0.3813\n",
      " SG :: val/train: 0.94\n",
      "11610/11610 [==============================] - 1s 78us/sample - loss: 0.3846 - val_loss: 0.3600\n",
      "Epoch 26/30\n",
      "11136/11610 [===========================>..] - ETA: 0s - loss: 0.3853\n",
      " SG :: val/train: 0.94\n",
      "11610/11610 [==============================] - 1s 79us/sample - loss: 0.3825 - val_loss: 0.3578\n",
      "Epoch 27/30\n",
      "11008/11610 [===========================>..] - ETA: 0s - loss: 0.3798\n",
      " SG :: val/train: 0.97\n",
      "11610/11610 [==============================] - 1s 76us/sample - loss: 0.3802 - val_loss: 0.3676\n",
      "Epoch 28/30\n",
      "11424/11610 [============================>.] - ETA: 0s - loss: 0.3781\n",
      " SG :: val/train: 0.94\n",
      "11610/11610 [==============================] - 1s 77us/sample - loss: 0.3781 - val_loss: 0.3545\n",
      "Epoch 29/30\n",
      "11520/11610 [============================>.] - ETA: 0s - loss: 0.3761\n",
      " SG :: val/train: 0.96\n",
      "11610/11610 [==============================] - 1s 76us/sample - loss: 0.3761 - val_loss: 0.3612\n",
      "Epoch 30/30\n",
      "11008/11610 [===========================>..] - ETA: 0s - loss: 0.3739\n",
      " SG :: val/train: 0.95\n",
      "11610/11610 [==============================] - 1s 75us/sample - loss: 0.3742 - val_loss: 0.3555\n"
     ]
    }
   ],
   "source": [
    "tensorboard_cb = keras.callbacks.TensorBoard(run_logdir)\n",
    "history = model.fit(X_train, y_train, epochs=30,\n",
    "                    validation_data=(X_valid, y_valid),\n",
    "                    callbacks=[checkpoint_cb, tensorboard_cb, val_train_ratio_cb])"
   ]
  },
  {
   "cell_type": "markdown",
   "metadata": {},
   "source": [
    "To start the TensorBoard server, open a terminal and type below command in terminal\n",
    "\n",
    "/usr/local/anaconda/envs/tensorflow2/bin/tensorboard --logdir=./my_logs --port=4049 --bind_all\n",
    "If you are getting error that port is already in use, then please use any other port in the range of 4040 to 4140. Once TensorBoard server is started then please go to below url to access it\n",
    "\n",
    "http://your_web_console:your_port_number\n",
    "\n",
    "Replace your_web_console with your CloudxLab web console address. Say your console is on f.cloudxlab.com then your_web_console will be f.cloudxlab.com. your_port_number will be the port on which your TensorBoard server is running. Below is the fully qualified url for accessing your TensorBoard server\n",
    "\n",
    "http://f.cloudxlab.com:4049\n",
    "\n",
    "Once you are done, press Ctrl-C in the terminal window, this will shutdown the TensorBoard server."
   ]
  },
  {
   "cell_type": "code",
   "execution_count": 52,
   "metadata": {},
   "outputs": [
    {
     "data": {
      "text/plain": [
       "'./my_logs/run_2020_09_10-16_42_47'"
      ]
     },
     "execution_count": 52,
     "metadata": {},
     "output_type": "execute_result"
    }
   ],
   "source": [
    "run_logdir2 = get_run_logdir()\n",
    "run_logdir2"
   ]
  },
  {
   "cell_type": "code",
   "execution_count": 53,
   "metadata": {},
   "outputs": [],
   "source": [
    "keras.backend.clear_session()\n",
    "np.random.seed(42)\n",
    "tf.random.set_seed(42)"
   ]
  },
  {
   "cell_type": "code",
   "execution_count": 54,
   "metadata": {},
   "outputs": [],
   "source": [
    "# running another model to compare\n",
    "\n",
    "model = keras.models.Sequential([\n",
    "    keras.layers.Dense(30, activation=\"relu\", input_shape=[8]),\n",
    "    keras.layers.Dense(3, activation=\"relu\"),\n",
    "    keras.layers.Dense(1)\n",
    "])    \n",
    "model.compile(loss=\"mse\", optimizer=keras.optimizers.SGD(lr=0.5))"
   ]
  },
  {
   "cell_type": "code",
   "execution_count": 55,
   "metadata": {},
   "outputs": [
    {
     "name": "stdout",
     "output_type": "stream",
     "text": [
      "Train on 11610 samples, validate on 3870 samples\n",
      "Epoch 1/30\n",
      "11610/11610 [==============================] - 1s 104us/sample - loss: 1.6776 - val_loss: 1.3386\n",
      "Epoch 2/30\n",
      "11610/11610 [==============================] - 1s 73us/sample - loss: 1.3823 - val_loss: 1.3153\n",
      "Epoch 3/30\n",
      "11610/11610 [==============================] - 1s 76us/sample - loss: 1.3840 - val_loss: 1.3311\n",
      "Epoch 4/30\n",
      "11610/11610 [==============================] - 1s 77us/sample - loss: 1.3786 - val_loss: 1.4583\n",
      "Epoch 5/30\n",
      "11610/11610 [==============================] - 1s 74us/sample - loss: 1.3793 - val_loss: 1.4866\n",
      "Epoch 6/30\n",
      "11610/11610 [==============================] - 1s 74us/sample - loss: 1.3845 - val_loss: 1.3411\n",
      "Epoch 7/30\n",
      "11610/11610 [==============================] - 1s 74us/sample - loss: 1.3735 - val_loss: 1.4338\n",
      "Epoch 8/30\n",
      "11610/11610 [==============================] - 1s 76us/sample - loss: 1.3772 - val_loss: 1.3247\n",
      "Epoch 9/30\n",
      "11610/11610 [==============================] - 1s 78us/sample - loss: 1.3815 - val_loss: 1.3153\n",
      "Epoch 10/30\n",
      "11610/11610 [==============================] - 1s 76us/sample - loss: 1.3912 - val_loss: 1.3551\n",
      "Epoch 11/30\n",
      "11610/11610 [==============================] - 1s 77us/sample - loss: 1.3767 - val_loss: 1.3404\n",
      "Epoch 12/30\n",
      "11610/11610 [==============================] - 1s 73us/sample - loss: 1.3726 - val_loss: 1.3864\n",
      "Epoch 13/30\n",
      "11610/11610 [==============================] - 1s 72us/sample - loss: 1.3838 - val_loss: 1.3156\n",
      "Epoch 14/30\n",
      "11610/11610 [==============================] - 1s 74us/sample - loss: 1.3829 - val_loss: 1.4986\n",
      "Epoch 15/30\n",
      "11610/11610 [==============================] - 1s 76us/sample - loss: 1.3950 - val_loss: 1.3157\n",
      "Epoch 16/30\n",
      "11610/11610 [==============================] - 1s 77us/sample - loss: 1.3826 - val_loss: 1.3263\n",
      "Epoch 17/30\n",
      "11610/11610 [==============================] - 1s 74us/sample - loss: 1.3891 - val_loss: 1.3656\n",
      "Epoch 18/30\n",
      "11610/11610 [==============================] - 1s 73us/sample - loss: 1.3744 - val_loss: 1.3150\n",
      "Epoch 19/30\n",
      "11610/11610 [==============================] - 1s 79us/sample - loss: 1.3803 - val_loss: 1.3177\n",
      "Epoch 20/30\n",
      "11610/11610 [==============================] - 1s 76us/sample - loss: 1.3878 - val_loss: 1.3695\n",
      "Epoch 21/30\n",
      "11610/11610 [==============================] - 1s 79us/sample - loss: 1.3865 - val_loss: 1.5186\n",
      "Epoch 22/30\n",
      "11610/11610 [==============================] - 1s 74us/sample - loss: 1.3855 - val_loss: 1.3544\n",
      "Epoch 23/30\n",
      "11610/11610 [==============================] - 1s 76us/sample - loss: 1.3757 - val_loss: 1.3331\n",
      "Epoch 24/30\n",
      "11610/11610 [==============================] - 1s 73us/sample - loss: 1.3828 - val_loss: 1.4291\n",
      "Epoch 25/30\n",
      "11610/11610 [==============================] - 1s 74us/sample - loss: 1.3806 - val_loss: 1.3164\n",
      "Epoch 26/30\n",
      "11610/11610 [==============================] - 1s 73us/sample - loss: 1.3828 - val_loss: 1.3592\n",
      "Epoch 27/30\n",
      "11610/11610 [==============================] - 1s 80us/sample - loss: 1.3761 - val_loss: 1.3957\n",
      "Epoch 28/30\n",
      "11610/11610 [==============================] - 1s 81us/sample - loss: 1.3847 - val_loss: 1.3361\n",
      "Epoch 29/30\n",
      "11610/11610 [==============================] - 1s 81us/sample - loss: 1.3820 - val_loss: 1.3410\n",
      "Epoch 30/30\n",
      "11610/11610 [==============================] - 1s 79us/sample - loss: 1.3791 - val_loss: 1.3248\n"
     ]
    }
   ],
   "source": [
    "tensorboard_cb = keras.callbacks.TensorBoard(run_logdir2) # calling the Tensorboard using the second model\n",
    "history = model.fit(X_train, y_train, epochs=30,\n",
    "                    validation_data=(X_valid, y_valid),\n",
    "                    callbacks=[checkpoint_cb, tensorboard_cb])"
   ]
  },
  {
   "cell_type": "code",
   "execution_count": 56,
   "metadata": {},
   "outputs": [
    {
     "name": "stdout",
     "output_type": "stream",
     "text": [
      "Help on function __init__ in module tensorflow.python.keras.callbacks:\n",
      "\n",
      "__init__(self, log_dir='logs', histogram_freq=0, write_graph=True, write_images=False, update_freq='epoch', profile_batch=2, embeddings_freq=0, embeddings_metadata=None, **kwargs)\n",
      "    Initialize self.  See help(type(self)) for accurate signature.\n",
      "\n"
     ]
    }
   ],
   "source": [
    "help(keras.callbacks.TensorBoard.__init__)"
   ]
  },
  {
   "cell_type": "code",
   "execution_count": null,
   "metadata": {},
   "outputs": [],
   "source": []
  }
 ],
 "metadata": {
  "kernelspec": {
   "display_name": "tensorflow2",
   "language": "python",
   "name": "tensorflow2"
  },
  "language_info": {
   "codemirror_mode": {
    "name": "ipython",
    "version": 3
   },
   "file_extension": ".py",
   "mimetype": "text/x-python",
   "name": "python",
   "nbconvert_exporter": "python",
   "pygments_lexer": "ipython3",
   "version": "3.6.8"
  },
  "toc": {
   "base_numbering": 1,
   "nav_menu": {},
   "number_sections": true,
   "sideBar": true,
   "skip_h1_title": false,
   "title_cell": "Table of Contents",
   "title_sidebar": "Contents",
   "toc_cell": false,
   "toc_position": {},
   "toc_section_display": true,
   "toc_window_display": false
  }
 },
 "nbformat": 4,
 "nbformat_minor": 2
}
