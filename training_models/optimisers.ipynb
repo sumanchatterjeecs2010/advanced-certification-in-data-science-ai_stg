{
 "cells": [
  {
   "cell_type": "markdown",
   "metadata": {},
   "source": [
    "# Setup\n",
    "\n",
    "We will call required packages here"
   ]
  },
  {
   "cell_type": "code",
   "execution_count": 27,
   "metadata": {},
   "outputs": [
    {
     "name": "stdout",
     "output_type": "stream",
     "text": [
      "The tensorboard extension is already loaded. To reload it, use:\n",
      "  %reload_ext tensorboard\n"
     ]
    }
   ],
   "source": [
    "# Python ≥3.5 is required\n",
    "import sys\n",
    "assert sys.version_info >= (3, 5)\n",
    "\n",
    "# Scikit-Learn ≥0.20 is required\n",
    "import sklearn\n",
    "assert sklearn.__version__ >= \"0.20\"\n",
    "import pandas as pd\n",
    "try:\n",
    "    # %tensorflow_version only exists in Colab.\n",
    "    %tensorflow_version 2.x\n",
    "except Exception:\n",
    "    pass\n",
    "\n",
    "# TensorFlow ≥2.0 is required\n",
    "import tensorflow as tf\n",
    "from tensorflow import keras\n",
    "assert tf.__version__ >= \"2.0\"\n",
    "\n",
    "%load_ext tensorboard\n",
    "\n",
    "# Common imports\n",
    "import numpy as np\n",
    "import os\n",
    "\n",
    "# to make this notebook's output stable across runs\n",
    "np.random.seed(42)\n",
    "tf.random.set_seed(42)\n",
    "\n",
    "# To plot pretty figures\n",
    "%matplotlib inline\n",
    "import matplotlib as mpl\n",
    "import matplotlib.pyplot as plt\n",
    "mpl.rc('axes', labelsize=14)\n",
    "mpl.rc('xtick', labelsize=12)\n",
    "mpl.rc('ytick', labelsize=12)\n",
    "\n",
    "# Where to save the figures\n",
    "PROJECT_ROOT_DIR = \".\"\n",
    "CHAPTER_ID = \"deep\"\n",
    "IMAGES_PATH = os.path.join(PROJECT_ROOT_DIR, \"images\", CHAPTER_ID)\n",
    "os.makedirs(IMAGES_PATH, exist_ok=True)\n",
    "\n",
    "def save_fig(fig_id, tight_layout=True, fig_extension=\"png\", resolution=300):\n",
    "    path = os.path.join(IMAGES_PATH, fig_id + \".\" + fig_extension)\n",
    "    print(\"Saving figure\", fig_id)\n",
    "    if tight_layout:\n",
    "        plt.tight_layout()\n",
    "    plt.savefig(path, format=fig_extension, dpi=resolution)"
   ]
  },
  {
   "cell_type": "markdown",
   "metadata": {},
   "source": [
    "# Setup Input"
   ]
  },
  {
   "cell_type": "code",
   "execution_count": 3,
   "metadata": {},
   "outputs": [],
   "source": [
    "# loading the Fashion-MNIST dataset\n",
    "(X_train_full, y_train_full), (X_test, y_test) = keras.datasets.fashion_mnist.load_data()\n",
    "\n",
    "# trimming the data since it takes lot of time\n",
    "X_train_full = X_train_full[:30000]\n",
    "y_train_full = y_train_full[:30000]\n",
    "\n",
    "X_test = X_test[:5000]\n",
    "y_test = y_test[:5000]\n",
    "\n",
    "# scaling the dataset\n",
    "X_train_full = X_train_full / 255.0\n",
    "X_test = X_test / 255.0\n",
    "\n",
    "# dividing the dataset into traingin and validation set\n",
    "X_valid, X_train = X_train_full[:5000], X_train_full[5000:]\n",
    "y_valid, y_train = y_train_full[:5000], y_train_full[5000:]\n",
    "\n",
    "\n",
    "# scaling the dataset\n",
    "pixel_means = X_train.mean(axis=0, keepdims=True)\n",
    "pixel_stds = X_train.std(axis=0, keepdims=True)\n",
    "X_train_scaled = (X_train - pixel_means) / pixel_stds\n",
    "X_valid_scaled = (X_valid - pixel_means) / pixel_stds\n",
    "X_test_scaled = (X_test - pixel_means) / pixel_stds"
   ]
  },
  {
   "cell_type": "markdown",
   "metadata": {},
   "source": [
    "# Optimisers"
   ]
  },
  {
   "cell_type": "markdown",
   "metadata": {},
   "source": [
    "We will start look at different optimisers and compare them\n",
    "\n",
    "## Stochastic Gradient Descent"
   ]
  },
  {
   "cell_type": "code",
   "execution_count": 4,
   "metadata": {},
   "outputs": [],
   "source": [
    "#For all experiments\n",
    "n_epochs=10\n",
    "history={}"
   ]
  },
  {
   "cell_type": "code",
   "execution_count": 5,
   "metadata": {},
   "outputs": [],
   "source": [
    "optimizer = keras.optimizers.SGD(lr=0.001) "
   ]
  },
  {
   "cell_type": "code",
   "execution_count": 6,
   "metadata": {},
   "outputs": [],
   "source": [
    "# defining the model\n",
    "model = keras.models.Sequential([\n",
    "    keras.layers.Flatten(input_shape=[28, 28]),\n",
    "    keras.layers.Dense(300, activation=\"selu\", kernel_initializer=\"lecun_normal\"),\n",
    "    keras.layers.Dense(100, activation=\"selu\", kernel_initializer=\"lecun_normal\"),\n",
    "    keras.layers.Dense(10, activation=\"softmax\")\n",
    "])\n",
    "\n",
    "# compiling the model\n",
    "model.compile(loss=\"sparse_categorical_crossentropy\", optimizer=optimizer, metrics=[\"accuracy\"])"
   ]
  },
  {
   "cell_type": "code",
   "execution_count": 7,
   "metadata": {},
   "outputs": [
    {
     "name": "stdout",
     "output_type": "stream",
     "text": [
      "Train on 25000 samples, validate on 5000 samples\n",
      "Epoch 1/10\n",
      "25000/25000 [==============================] - 3s 119us/sample - loss: 0.8651 - accuracy: 0.7047 - val_loss: 0.6259 - val_accuracy: 0.7864\n",
      "Epoch 2/10\n",
      "25000/25000 [==============================] - 3s 102us/sample - loss: 0.5845 - accuracy: 0.7975 - val_loss: 0.5428 - val_accuracy: 0.8132\n",
      "Epoch 3/10\n",
      "25000/25000 [==============================] - 3s 104us/sample - loss: 0.5231 - accuracy: 0.8184 - val_loss: 0.5081 - val_accuracy: 0.8248\n",
      "Epoch 4/10\n",
      "25000/25000 [==============================] - 3s 104us/sample - loss: 0.4899 - accuracy: 0.8290 - val_loss: 0.4855 - val_accuracy: 0.8332\n",
      "Epoch 5/10\n",
      "25000/25000 [==============================] - 3s 136us/sample - loss: 0.4671 - accuracy: 0.8371 - val_loss: 0.4704 - val_accuracy: 0.8386\n",
      "Epoch 6/10\n",
      "25000/25000 [==============================] - 3s 126us/sample - loss: 0.4498 - accuracy: 0.8417 - val_loss: 0.4594 - val_accuracy: 0.8402\n",
      "Epoch 7/10\n",
      "25000/25000 [==============================] - 3s 102us/sample - loss: 0.4365 - accuracy: 0.8468 - val_loss: 0.4507 - val_accuracy: 0.8446\n",
      "Epoch 8/10\n",
      "25000/25000 [==============================] - 2s 100us/sample - loss: 0.4252 - accuracy: 0.8489 - val_loss: 0.4425 - val_accuracy: 0.8494\n",
      "Epoch 9/10\n",
      "25000/25000 [==============================] - 3s 101us/sample - loss: 0.4155 - accuracy: 0.8527 - val_loss: 0.4380 - val_accuracy: 0.8496\n",
      "Epoch 10/10\n",
      "25000/25000 [==============================] - 2s 100us/sample - loss: 0.4070 - accuracy: 0.8568 - val_loss: 0.4340 - val_accuracy: 0.8506\n"
     ]
    }
   ],
   "source": [
    "#training the model\n",
    "history['sgd'] = model.fit(X_train_scaled, y_train, epochs=n_epochs,\n",
    "                    validation_data=(X_valid_scaled, y_valid))"
   ]
  },
  {
   "cell_type": "markdown",
   "metadata": {},
   "source": [
    "## Momentum"
   ]
  },
  {
   "cell_type": "code",
   "execution_count": 8,
   "metadata": {},
   "outputs": [],
   "source": [
    "optimizer = keras.optimizers.SGD(lr=0.001, momentum=0.9)"
   ]
  },
  {
   "cell_type": "code",
   "execution_count": 9,
   "metadata": {},
   "outputs": [],
   "source": [
    "# defining the model\n",
    "model = keras.models.Sequential([\n",
    "    keras.layers.Flatten(input_shape=[28, 28]),\n",
    "    keras.layers.Dense(300, activation=\"selu\", kernel_initializer=\"lecun_normal\"),\n",
    "    keras.layers.Dense(100, activation=\"selu\", kernel_initializer=\"lecun_normal\"),\n",
    "    keras.layers.Dense(10, activation=\"softmax\")\n",
    "])\n",
    "\n",
    "# compiling the model\n",
    "model.compile(loss=\"sparse_categorical_crossentropy\", optimizer=optimizer, metrics=[\"accuracy\"])"
   ]
  },
  {
   "cell_type": "code",
   "execution_count": 10,
   "metadata": {},
   "outputs": [
    {
     "name": "stdout",
     "output_type": "stream",
     "text": [
      "Train on 25000 samples, validate on 5000 samples\n",
      "Epoch 1/10\n",
      "25000/25000 [==============================] - 3s 126us/sample - loss: 0.5586 - accuracy: 0.8025 - val_loss: 0.4398 - val_accuracy: 0.8496\n",
      "Epoch 2/10\n",
      "25000/25000 [==============================] - 3s 106us/sample - loss: 0.4157 - accuracy: 0.8509 - val_loss: 0.4115 - val_accuracy: 0.8624\n",
      "Epoch 3/10\n",
      "25000/25000 [==============================] - 3s 109us/sample - loss: 0.3748 - accuracy: 0.8661 - val_loss: 0.3948 - val_accuracy: 0.8674\n",
      "Epoch 4/10\n",
      "25000/25000 [==============================] - 3s 105us/sample - loss: 0.3484 - accuracy: 0.8758 - val_loss: 0.3907 - val_accuracy: 0.8646\n",
      "Epoch 5/10\n",
      "25000/25000 [==============================] - 3s 107us/sample - loss: 0.3275 - accuracy: 0.8837 - val_loss: 0.3842 - val_accuracy: 0.8652\n",
      "Epoch 6/10\n",
      "25000/25000 [==============================] - 3s 107us/sample - loss: 0.3107 - accuracy: 0.8881 - val_loss: 0.3803 - val_accuracy: 0.8644\n",
      "Epoch 7/10\n",
      "25000/25000 [==============================] - 3s 106us/sample - loss: 0.2972 - accuracy: 0.8938 - val_loss: 0.3770 - val_accuracy: 0.8694\n",
      "Epoch 8/10\n",
      "25000/25000 [==============================] - 3s 102us/sample - loss: 0.2835 - accuracy: 0.8960 - val_loss: 0.3760 - val_accuracy: 0.8710\n",
      "Epoch 9/10\n",
      "25000/25000 [==============================] - 3s 105us/sample - loss: 0.2701 - accuracy: 0.9031 - val_loss: 0.3693 - val_accuracy: 0.8716\n",
      "Epoch 10/10\n",
      "25000/25000 [==============================] - 3s 106us/sample - loss: 0.2597 - accuracy: 0.9066 - val_loss: 0.3685 - val_accuracy: 0.8714\n"
     ]
    }
   ],
   "source": [
    "\n",
    "#training the model\n",
    "history['mag'] = model.fit(X_train_scaled, y_train, epochs=n_epochs,\n",
    "                    validation_data=(X_valid_scaled, y_valid))"
   ]
  },
  {
   "cell_type": "markdown",
   "metadata": {},
   "source": [
    "## NAG (Nesterov)"
   ]
  },
  {
   "cell_type": "code",
   "execution_count": 11,
   "metadata": {},
   "outputs": [],
   "source": [
    "optimizer = keras.optimizers.SGD(lr=0.001, momentum=0.9, nesterov=True)"
   ]
  },
  {
   "cell_type": "code",
   "execution_count": 12,
   "metadata": {},
   "outputs": [],
   "source": [
    "# defining the model\n",
    "model = keras.models.Sequential([\n",
    "    keras.layers.Flatten(input_shape=[28, 28]),\n",
    "    keras.layers.Dense(300, activation=\"selu\", kernel_initializer=\"lecun_normal\"),\n",
    "    keras.layers.Dense(100, activation=\"selu\", kernel_initializer=\"lecun_normal\"),\n",
    "    keras.layers.Dense(10, activation=\"softmax\")\n",
    "])\n",
    "\n",
    "# compiling the model\n",
    "model.compile(loss=\"sparse_categorical_crossentropy\", optimizer=optimizer, metrics=[\"accuracy\"])"
   ]
  },
  {
   "cell_type": "code",
   "execution_count": 13,
   "metadata": {},
   "outputs": [
    {
     "name": "stdout",
     "output_type": "stream",
     "text": [
      "Train on 25000 samples, validate on 5000 samples\n",
      "Epoch 1/10\n",
      "25000/25000 [==============================] - 3s 127us/sample - loss: 0.5491 - accuracy: 0.8056 - val_loss: 0.4325 - val_accuracy: 0.8492\n",
      "Epoch 2/10\n",
      "25000/25000 [==============================] - 3s 112us/sample - loss: 0.4107 - accuracy: 0.8524 - val_loss: 0.4022 - val_accuracy: 0.8692\n",
      "Epoch 3/10\n",
      "25000/25000 [==============================] - 3s 106us/sample - loss: 0.3695 - accuracy: 0.8678 - val_loss: 0.3920 - val_accuracy: 0.8696\n",
      "Epoch 4/10\n",
      "25000/25000 [==============================] - 3s 112us/sample - loss: 0.3424 - accuracy: 0.8775 - val_loss: 0.3869 - val_accuracy: 0.8692\n",
      "Epoch 5/10\n",
      "25000/25000 [==============================] - 3s 110us/sample - loss: 0.3219 - accuracy: 0.8867 - val_loss: 0.3817 - val_accuracy: 0.8686\n",
      "Epoch 6/10\n",
      "25000/25000 [==============================] - 3s 112us/sample - loss: 0.3049 - accuracy: 0.8898 - val_loss: 0.3780 - val_accuracy: 0.8680\n",
      "Epoch 7/10\n",
      "25000/25000 [==============================] - 3s 112us/sample - loss: 0.2910 - accuracy: 0.8958 - val_loss: 0.3774 - val_accuracy: 0.8688\n",
      "Epoch 8/10\n",
      "25000/25000 [==============================] - 3s 110us/sample - loss: 0.2765 - accuracy: 0.9004 - val_loss: 0.3791 - val_accuracy: 0.8658\n",
      "Epoch 9/10\n",
      "25000/25000 [==============================] - 3s 106us/sample - loss: 0.2638 - accuracy: 0.9050 - val_loss: 0.3745 - val_accuracy: 0.8670\n",
      "Epoch 10/10\n",
      "25000/25000 [==============================] - 3s 106us/sample - loss: 0.2525 - accuracy: 0.9091 - val_loss: 0.3726 - val_accuracy: 0.8730\n"
     ]
    }
   ],
   "source": [
    "\n",
    "\n",
    "#training the model\n",
    "history['nag'] = model.fit(X_train_scaled, y_train, epochs=n_epochs,\n",
    "                    validation_data=(X_valid_scaled, y_valid))"
   ]
  },
  {
   "cell_type": "markdown",
   "metadata": {},
   "source": [
    "## Adagrad\n",
    "\n",
    "Adaptive gradients use the historic sums of squares of gradients to enable a variable degradation of learning rates"
   ]
  },
  {
   "cell_type": "code",
   "execution_count": 14,
   "metadata": {},
   "outputs": [],
   "source": [
    "optimizer = keras.optimizers.Adagrad(lr=0.001)"
   ]
  },
  {
   "cell_type": "code",
   "execution_count": 15,
   "metadata": {},
   "outputs": [],
   "source": [
    "# defining the model\n",
    "model = keras.models.Sequential([\n",
    "    keras.layers.Flatten(input_shape=[28, 28]),\n",
    "    keras.layers.Dense(300, activation=\"selu\", kernel_initializer=\"lecun_normal\"),\n",
    "    keras.layers.Dense(100, activation=\"selu\", kernel_initializer=\"lecun_normal\"),\n",
    "    keras.layers.Dense(10, activation=\"softmax\")\n",
    "])\n",
    "\n",
    "# compiling the model\n",
    "model.compile(loss=\"sparse_categorical_crossentropy\", optimizer=optimizer, metrics=[\"accuracy\"])"
   ]
  },
  {
   "cell_type": "code",
   "execution_count": 16,
   "metadata": {},
   "outputs": [
    {
     "name": "stdout",
     "output_type": "stream",
     "text": [
      "Train on 25000 samples, validate on 5000 samples\n",
      "Epoch 1/10\n",
      "25000/25000 [==============================] - 3s 124us/sample - loss: 0.6730 - accuracy: 0.7650 - val_loss: 0.5240 - val_accuracy: 0.8202\n",
      "Epoch 2/10\n",
      "25000/25000 [==============================] - 3s 107us/sample - loss: 0.4908 - accuracy: 0.8259 - val_loss: 0.4727 - val_accuracy: 0.8408\n",
      "Epoch 3/10\n",
      "25000/25000 [==============================] - 3s 108us/sample - loss: 0.4502 - accuracy: 0.8420 - val_loss: 0.4544 - val_accuracy: 0.8440\n",
      "Epoch 4/10\n",
      "25000/25000 [==============================] - 3s 108us/sample - loss: 0.4273 - accuracy: 0.8483 - val_loss: 0.4417 - val_accuracy: 0.8510\n",
      "Epoch 5/10\n",
      "25000/25000 [==============================] - 3s 108us/sample - loss: 0.4111 - accuracy: 0.8558 - val_loss: 0.4332 - val_accuracy: 0.8518\n",
      "Epoch 6/10\n",
      "25000/25000 [==============================] - 3s 110us/sample - loss: 0.3983 - accuracy: 0.8594 - val_loss: 0.4255 - val_accuracy: 0.8554\n",
      "Epoch 7/10\n",
      "25000/25000 [==============================] - 3s 108us/sample - loss: 0.3885 - accuracy: 0.8622 - val_loss: 0.4206 - val_accuracy: 0.8574\n",
      "Epoch 8/10\n",
      "25000/25000 [==============================] - 3s 108us/sample - loss: 0.3798 - accuracy: 0.8659 - val_loss: 0.4166 - val_accuracy: 0.8612\n",
      "Epoch 9/10\n",
      "25000/25000 [==============================] - 3s 115us/sample - loss: 0.3728 - accuracy: 0.8682 - val_loss: 0.4133 - val_accuracy: 0.8572\n",
      "Epoch 10/10\n",
      "25000/25000 [==============================] - 3s 126us/sample - loss: 0.3660 - accuracy: 0.8709 - val_loss: 0.4120 - val_accuracy: 0.8616\n"
     ]
    }
   ],
   "source": [
    "\n",
    "\n",
    "#training the model\n",
    "history['adagrad'] = model.fit(X_train_scaled, y_train, epochs=n_epochs,\n",
    "                    validation_data=(X_valid_scaled, y_valid))"
   ]
  },
  {
   "cell_type": "markdown",
   "metadata": {},
   "source": [
    "## RMSProp\n",
    "\n",
    "RMSProp add uses the exponentially decaying sum of squares of gradients, differing from Adagrad"
   ]
  },
  {
   "cell_type": "code",
   "execution_count": 17,
   "metadata": {},
   "outputs": [],
   "source": [
    "optimizer = keras.optimizers.RMSprop(lr=0.001, rho=0.9)"
   ]
  },
  {
   "cell_type": "code",
   "execution_count": 18,
   "metadata": {},
   "outputs": [],
   "source": [
    "# defining the model\n",
    "model = keras.models.Sequential([\n",
    "    keras.layers.Flatten(input_shape=[28, 28]),\n",
    "    keras.layers.Dense(300, activation=\"selu\", kernel_initializer=\"lecun_normal\"),\n",
    "    keras.layers.Dense(100, activation=\"selu\", kernel_initializer=\"lecun_normal\"),\n",
    "    keras.layers.Dense(10, activation=\"softmax\")\n",
    "])\n",
    "\n",
    "# compiling the model\n",
    "model.compile(loss=\"sparse_categorical_crossentropy\", optimizer=optimizer, metrics=[\"accuracy\"])"
   ]
  },
  {
   "cell_type": "code",
   "execution_count": 19,
   "metadata": {},
   "outputs": [
    {
     "name": "stdout",
     "output_type": "stream",
     "text": [
      "Train on 25000 samples, validate on 5000 samples\n",
      "Epoch 1/10\n",
      "25000/25000 [==============================] - 5s 192us/sample - loss: 0.6139 - accuracy: 0.7967 - val_loss: 0.6599 - val_accuracy: 0.7912\n",
      "Epoch 2/10\n",
      "25000/25000 [==============================] - 4s 160us/sample - loss: 0.4226 - accuracy: 0.8518 - val_loss: 0.5080 - val_accuracy: 0.8414\n",
      "Epoch 3/10\n",
      "25000/25000 [==============================] - 3s 135us/sample - loss: 0.3529 - accuracy: 0.8751 - val_loss: 0.4975 - val_accuracy: 0.8536\n",
      "Epoch 4/10\n",
      "25000/25000 [==============================] - 3s 132us/sample - loss: 0.3167 - accuracy: 0.8869 - val_loss: 0.4164 - val_accuracy: 0.8698\n",
      "Epoch 5/10\n",
      "25000/25000 [==============================] - 3s 134us/sample - loss: 0.2851 - accuracy: 0.8983 - val_loss: 0.4434 - val_accuracy: 0.8704\n",
      "Epoch 6/10\n",
      "25000/25000 [==============================] - 3s 132us/sample - loss: 0.2587 - accuracy: 0.9072 - val_loss: 0.5815 - val_accuracy: 0.8458\n",
      "Epoch 7/10\n",
      "25000/25000 [==============================] - 3s 131us/sample - loss: 0.2333 - accuracy: 0.9172 - val_loss: 0.5129 - val_accuracy: 0.8670\n",
      "Epoch 8/10\n",
      "25000/25000 [==============================] - 3s 130us/sample - loss: 0.2130 - accuracy: 0.9262 - val_loss: 0.4819 - val_accuracy: 0.8750\n",
      "Epoch 9/10\n",
      "25000/25000 [==============================] - 3s 128us/sample - loss: 0.2092 - accuracy: 0.9294 - val_loss: 0.5567 - val_accuracy: 0.8708\n",
      "Epoch 10/10\n",
      "25000/25000 [==============================] - 4s 155us/sample - loss: 0.1881 - accuracy: 0.9330 - val_loss: 0.6376 - val_accuracy: 0.8634\n"
     ]
    }
   ],
   "source": [
    "\n",
    "\n",
    "#training the model\n",
    "history['rmsprop'] = model.fit(X_train_scaled, y_train, epochs=n_epochs,\n",
    "                    validation_data=(X_valid_scaled, y_valid))"
   ]
  },
  {
   "cell_type": "markdown",
   "metadata": {},
   "source": [
    "## Adam Optimization\n",
    "\n",
    "Adam uses the best of momentum acceleration and RMSprop. This gives the momentum and also decays the learning rates."
   ]
  },
  {
   "cell_type": "code",
   "execution_count": 20,
   "metadata": {},
   "outputs": [],
   "source": [
    "optimizer = keras.optimizers.Adam(lr=0.001, beta_1=0.9, beta_2=0.999)"
   ]
  },
  {
   "cell_type": "code",
   "execution_count": 21,
   "metadata": {},
   "outputs": [],
   "source": [
    "# defining the model\n",
    "model = keras.models.Sequential([\n",
    "    keras.layers.Flatten(input_shape=[28, 28]),\n",
    "    keras.layers.Dense(300, activation=\"selu\", kernel_initializer=\"lecun_normal\"),\n",
    "    keras.layers.Dense(100, activation=\"selu\", kernel_initializer=\"lecun_normal\"),\n",
    "    keras.layers.Dense(10, activation=\"softmax\")\n",
    "])\n",
    "\n",
    "# compiling the model\n",
    "model.compile(loss=\"sparse_categorical_crossentropy\", optimizer=optimizer, metrics=[\"accuracy\"])"
   ]
  },
  {
   "cell_type": "code",
   "execution_count": 22,
   "metadata": {},
   "outputs": [
    {
     "name": "stdout",
     "output_type": "stream",
     "text": [
      "Train on 25000 samples, validate on 5000 samples\n",
      "Epoch 1/10\n",
      "25000/25000 [==============================] - 4s 161us/sample - loss: 0.5549 - accuracy: 0.8082 - val_loss: 0.4655 - val_accuracy: 0.8410\n",
      "Epoch 2/10\n",
      "25000/25000 [==============================] - 3s 105us/sample - loss: 0.4034 - accuracy: 0.8552 - val_loss: 0.4053 - val_accuracy: 0.8624\n",
      "Epoch 3/10\n",
      "25000/25000 [==============================] - 3s 106us/sample - loss: 0.3392 - accuracy: 0.8741 - val_loss: 0.3956 - val_accuracy: 0.8658\n",
      "Epoch 4/10\n",
      "25000/25000 [==============================] - 3s 106us/sample - loss: 0.3016 - accuracy: 0.8867 - val_loss: 0.3725 - val_accuracy: 0.8684\n",
      "Epoch 5/10\n",
      "25000/25000 [==============================] - 3s 108us/sample - loss: 0.2710 - accuracy: 0.8995 - val_loss: 0.4243 - val_accuracy: 0.8580\n",
      "Epoch 6/10\n",
      "25000/25000 [==============================] - 3s 109us/sample - loss: 0.2547 - accuracy: 0.9063 - val_loss: 0.3715 - val_accuracy: 0.8816\n",
      "Epoch 7/10\n",
      "25000/25000 [==============================] - 3s 125us/sample - loss: 0.2335 - accuracy: 0.9109 - val_loss: 0.3958 - val_accuracy: 0.8740\n",
      "Epoch 8/10\n",
      "25000/25000 [==============================] - 3s 113us/sample - loss: 0.2181 - accuracy: 0.9174 - val_loss: 0.4134 - val_accuracy: 0.8692\n",
      "Epoch 9/10\n",
      "25000/25000 [==============================] - 3s 105us/sample - loss: 0.2006 - accuracy: 0.9237 - val_loss: 0.4489 - val_accuracy: 0.8634\n",
      "Epoch 10/10\n",
      "25000/25000 [==============================] - 3s 110us/sample - loss: 0.1868 - accuracy: 0.9302 - val_loss: 0.4455 - val_accuracy: 0.8794\n"
     ]
    }
   ],
   "source": [
    "\n",
    "\n",
    "#training the model\n",
    "history['adam'] = model.fit(X_train_scaled, y_train, epochs=n_epochs,\n",
    "                    validation_data=(X_valid_scaled, y_valid))"
   ]
  },
  {
   "cell_type": "markdown",
   "metadata": {},
   "source": [
    "## Nadam Optimiser\n",
    "\n",
    "Nadam is Adam with Nesterov"
   ]
  },
  {
   "cell_type": "code",
   "execution_count": 23,
   "metadata": {},
   "outputs": [],
   "source": [
    "optimizer = keras.optimizers.Nadam(lr=0.001, beta_1=0.9, beta_2=0.999)"
   ]
  },
  {
   "cell_type": "code",
   "execution_count": 24,
   "metadata": {},
   "outputs": [],
   "source": [
    "# defining the model\n",
    "model = keras.models.Sequential([\n",
    "    keras.layers.Flatten(input_shape=[28, 28]),\n",
    "    keras.layers.Dense(300, activation=\"selu\", kernel_initializer=\"lecun_normal\"),\n",
    "    keras.layers.Dense(100, activation=\"selu\", kernel_initializer=\"lecun_normal\"),\n",
    "    keras.layers.Dense(10, activation=\"softmax\")\n",
    "])\n",
    "\n",
    "# compiling the model\n",
    "model.compile(loss=\"sparse_categorical_crossentropy\", optimizer=optimizer, metrics=[\"accuracy\"])"
   ]
  },
  {
   "cell_type": "code",
   "execution_count": 25,
   "metadata": {},
   "outputs": [
    {
     "name": "stdout",
     "output_type": "stream",
     "text": [
      "Train on 25000 samples, validate on 5000 samples\n",
      "Epoch 1/10\n",
      "25000/25000 [==============================] - 4s 173us/sample - loss: 0.5461 - accuracy: 0.8111 - val_loss: 0.5569 - val_accuracy: 0.8150\n",
      "Epoch 2/10\n",
      "25000/25000 [==============================] - 3s 140us/sample - loss: 0.3805 - accuracy: 0.8615 - val_loss: 0.4151 - val_accuracy: 0.8558\n",
      "Epoch 3/10\n",
      "25000/25000 [==============================] - 3s 136us/sample - loss: 0.3259 - accuracy: 0.8797 - val_loss: 0.4179 - val_accuracy: 0.8608\n",
      "Epoch 4/10\n",
      "25000/25000 [==============================] - 3s 139us/sample - loss: 0.2884 - accuracy: 0.8916 - val_loss: 0.4318 - val_accuracy: 0.8548\n",
      "Epoch 5/10\n",
      "25000/25000 [==============================] - 4s 140us/sample - loss: 0.2601 - accuracy: 0.9010 - val_loss: 0.4165 - val_accuracy: 0.8670\n",
      "Epoch 6/10\n",
      "25000/25000 [==============================] - 4s 141us/sample - loss: 0.2363 - accuracy: 0.9132 - val_loss: 0.4264 - val_accuracy: 0.8664\n",
      "Epoch 7/10\n",
      "25000/25000 [==============================] - 4s 142us/sample - loss: 0.2191 - accuracy: 0.9179 - val_loss: 0.3967 - val_accuracy: 0.8756\n",
      "Epoch 8/10\n",
      "25000/25000 [==============================] - 4s 142us/sample - loss: 0.2001 - accuracy: 0.9246 - val_loss: 0.4136 - val_accuracy: 0.8784\n",
      "Epoch 9/10\n",
      "25000/25000 [==============================] - 4s 140us/sample - loss: 0.1864 - accuracy: 0.9303 - val_loss: 0.4321 - val_accuracy: 0.8724\n",
      "Epoch 10/10\n",
      "25000/25000 [==============================] - 3s 139us/sample - loss: 0.1727 - accuracy: 0.9348 - val_loss: 0.4644 - val_accuracy: 0.8638\n"
     ]
    }
   ],
   "source": [
    "\n",
    "\n",
    "#training the model\n",
    "history['nadam'] = model.fit(X_train_scaled, y_train, epochs=n_epochs,\n",
    "                    validation_data=(X_valid_scaled, y_valid))"
   ]
  },
  {
   "cell_type": "markdown",
   "metadata": {},
   "source": [
    "# Visualization"
   ]
  },
  {
   "cell_type": "code",
   "execution_count": 39,
   "metadata": {},
   "outputs": [
    {
     "data": {
      "image/png": "[encoded data removed]",
      "text/plain": [
       "<Figure size 432x288 with 1 Axes>"
      ]
     },
     "metadata": {
      "needs_background": "light"
     },
     "output_type": "display_data"
    }
   ],
   "source": [
    "\n",
    "\n",
    "\n",
    "\n",
    "for opt in ['sgd', 'mag', 'nag', 'adagrad', 'rmsprop', 'adam', 'nadam']:\n",
    "    plt.plot(history[opt].history['loss'], label=opt)\n",
    "\n",
    "plt.legend()\n",
    "plt.grid(True)\n",
    "plt.gca().set_ylim(0, 1) # setting limits for y-axis\n",
    "plt.show()"
   ]
  },
  {
   "cell_type": "code",
   "execution_count": null,
   "metadata": {},
   "outputs": [],
   "source": []
  }
 ],
 "metadata": {
  "kernelspec": {
   "display_name": "tensorflow2",
   "language": "python",
   "name": "tensorflow2"
  },
  "language_info": {
   "codemirror_mode": {
    "name": "ipython",
    "version": 3
   },
   "file_extension": ".py",
   "mimetype": "text/x-python",
   "name": "python",
   "nbconvert_exporter": "python",
   "pygments_lexer": "ipython3",
   "version": "3.6.8"
  },
  "toc": {
   "base_numbering": 1,
   "nav_menu": {},
   "number_sections": true,
   "sideBar": true,
   "skip_h1_title": false,
   "title_cell": "Table of Contents",
   "title_sidebar": "Contents",
   "toc_cell": false,
   "toc_position": {},
   "toc_section_display": true,
   "toc_window_display": false
  }
 },
 "nbformat": 4,
 "nbformat_minor": 2
}
